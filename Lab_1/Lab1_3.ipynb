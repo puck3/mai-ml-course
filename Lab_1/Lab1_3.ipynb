{
 "cells": [
  {
   "cell_type": "markdown",
   "id": "d129f558-e266-42cd-8bee-dabfd4c715e7",
   "metadata": {},
   "source": [
    "## Лабораторная работа №1 | Вариант 3"
   ]
  },
  {
   "cell_type": "markdown",
   "id": "913dc303-b443-486f-99ca-aa4a95477077",
   "metadata": {},
   "source": [
    "Выполнил: Шипилов К. Ю. M8O-303Б-22"
   ]
  },
  {
   "cell_type": "markdown",
   "id": "be9d7461-98e4-40f4-88ea-9a0223ce51d1",
   "metadata": {},
   "source": [
    "### 1. Numpy"
   ]
  },
  {
   "cell_type": "code",
   "execution_count": 1,
   "id": "aac6dd5d-af95-49a0-a63c-c2fe87932294",
   "metadata": {},
   "outputs": [],
   "source": [
    "import numpy as np"
   ]
  },
  {
   "cell_type": "markdown",
   "id": "7550f070-1dc5-4c1c-9d50-ee6e7d25c608",
   "metadata": {},
   "source": [
    "1. Создайте массив D размером 4x4, заполненный числами от 1 до 16. Используйте срезы, чтобы извлечь подмассив размером 2x2, начиная с элемента в строке 1 и столбце 1."
   ]
  },
  {
   "cell_type": "code",
   "execution_count": 2,
   "id": "4db667a8-4aec-4d21-846d-621fc8bc8589",
   "metadata": {},
   "outputs": [
    {
     "data": {
      "text/plain": [
       "array([[ 6,  7],\n",
       "       [10, 11]])"
      ]
     },
     "execution_count": 2,
     "metadata": {},
     "output_type": "execute_result"
    }
   ],
   "source": [
    "D = np.arange(1, 17).reshape(4, 4)\n",
    "D[1:3, 1:3]"
   ]
  },
  {
   "cell_type": "markdown",
   "id": "fc8c9a7a-5cca-46fc-9a83-d62799b1047e",
   "metadata": {},
   "source": [
    "2. Создайте трехмерный массив a размером 4x3x2, заполненный случайными числами от 1 до 10. Найдите сумму всех элементов вдоль оси 1."
   ]
  },
  {
   "cell_type": "code",
   "execution_count": 3,
   "id": "c53d0205-e570-4844-8ef4-06608d4fb48e",
   "metadata": {},
   "outputs": [
    {
     "data": {
      "text/plain": [
       "array([[17.97863537, 17.58622641],\n",
       "       [13.15019595, 12.17438369],\n",
       "       [11.33285868, 16.03213169],\n",
       "       [18.82085243, 24.9029232 ]])"
      ]
     },
     "execution_count": 3,
     "metadata": {},
     "output_type": "execute_result"
    }
   ],
   "source": [
    "np.random.uniform(1, 10, (4, 3, 2)).sum(axis=1)"
   ]
  },
  {
   "cell_type": "markdown",
   "id": "ef67e787-3442-437d-ad64-6f784267cf79",
   "metadata": {},
   "source": [
    "3. Напишите функцию, которая принимает матрицу и производит нормировку её элементов (т.е. $A'_{ij} = A_{ij} / \\sum_{i} \\sum_{j} A_{ij}$)"
   ]
  },
  {
   "cell_type": "code",
   "execution_count": 4,
   "id": "d93ce1a2-1312-4527-8583-b6ffdc605da0",
   "metadata": {},
   "outputs": [],
   "source": [
    "def normalize(A: np.ndarray) -> np.ndarray:\n",
    "    return A / A.sum()"
   ]
  },
  {
   "cell_type": "code",
   "execution_count": 5,
   "id": "c84a5253-9ea5-4980-a458-3f764237cf11",
   "metadata": {},
   "outputs": [
    {
     "data": {
      "text/plain": [
       "array([[0.00735294, 0.01470588, 0.02205882, 0.02941176],\n",
       "       [0.03676471, 0.04411765, 0.05147059, 0.05882353],\n",
       "       [0.06617647, 0.07352941, 0.08088235, 0.08823529],\n",
       "       [0.09558824, 0.10294118, 0.11029412, 0.11764706]])"
      ]
     },
     "execution_count": 5,
     "metadata": {},
     "output_type": "execute_result"
    }
   ],
   "source": [
    "normalize(D)"
   ]
  },
  {
   "cell_type": "markdown",
   "id": "b188c2e4-3b7a-4606-b295-5e309c6158ef",
   "metadata": {},
   "source": [
    "4. Напишите функцию, которая принимает 3 трехмерных вектора $x, y, z$ и вычисляет объем пирамиды, образованной этими векторами (используйте смешанное произведение векторов)"
   ]
  },
  {
   "cell_type": "code",
   "execution_count": 6,
   "id": "9102b2e8-e846-47f1-b65b-9164179abff6",
   "metadata": {},
   "outputs": [],
   "source": [
    "def get_pyramid_volume(x: np.array, y: np.array, z: np.array) -> float:\n",
    "    cross_product = np.cross(x, y)\n",
    "    dot_product = np.dot(z, cross_product)\n",
    "    return abs(dot_product) / 6"
   ]
  },
  {
   "cell_type": "code",
   "execution_count": 7,
   "id": "cadde863-5ab9-4336-b899-542d229a69fc",
   "metadata": {},
   "outputs": [
    {
     "data": {
      "text/plain": [
       "0.16666666666666666"
      ]
     },
     "execution_count": 7,
     "metadata": {},
     "output_type": "execute_result"
    }
   ],
   "source": [
    "a = np.array([1, 0, 0])\n",
    "b = np.array([0, 1, 0])\n",
    "c = np.array([0, 0, 1])\n",
    "\n",
    "get_pyramid_volume(a, b, c)"
   ]
  },
  {
   "cell_type": "markdown",
   "id": "1d7b8407-f366-4a37-9e5e-b086722a82f8",
   "metadata": {},
   "source": [
    "5. Напишите функцию, которая принимает число N и строит матрицу NxN, с нулями внутри и единицами на границе."
   ]
  },
  {
   "cell_type": "code",
   "execution_count": 8,
   "id": "7bc37720-2f47-4320-90a2-4be2dc4989ae",
   "metadata": {},
   "outputs": [],
   "source": [
    "def get_ones_border(n: int) -> np.ndarray:\n",
    "    matrix = np.ones((n, n))\n",
    "    matrix[1:-1, 1:-1] = 0\n",
    "    return matrix"
   ]
  },
  {
   "cell_type": "code",
   "execution_count": 9,
   "id": "2583012a-e5c7-4b99-b0ba-bd225b9c8f94",
   "metadata": {},
   "outputs": [
    {
     "data": {
      "text/plain": [
       "array([[1., 1., 1., 1., 1.],\n",
       "       [1., 0., 0., 0., 1.],\n",
       "       [1., 0., 0., 0., 1.],\n",
       "       [1., 0., 0., 0., 1.],\n",
       "       [1., 1., 1., 1., 1.]])"
      ]
     },
     "execution_count": 9,
     "metadata": {},
     "output_type": "execute_result"
    }
   ],
   "source": [
    "get_ones_border(5)"
   ]
  },
  {
   "cell_type": "markdown",
   "id": "576b7d23-1a46-46fa-92a7-e5f3240544d7",
   "metadata": {},
   "source": [
    "6. Создайте матрицу шахматную доску 8х8 используя функцию `tile`"
   ]
  },
  {
   "cell_type": "code",
   "execution_count": 10,
   "id": "c1e16045-39c5-4006-b0bd-6fe926004e48",
   "metadata": {},
   "outputs": [
    {
     "data": {
      "text/plain": [
       "array([['b', 'w', 'b', 'w', 'b', 'w', 'b', 'w'],\n",
       "       ['w', 'b', 'w', 'b', 'w', 'b', 'w', 'b'],\n",
       "       ['b', 'w', 'b', 'w', 'b', 'w', 'b', 'w'],\n",
       "       ['w', 'b', 'w', 'b', 'w', 'b', 'w', 'b'],\n",
       "       ['b', 'w', 'b', 'w', 'b', 'w', 'b', 'w'],\n",
       "       ['w', 'b', 'w', 'b', 'w', 'b', 'w', 'b'],\n",
       "       ['b', 'w', 'b', 'w', 'b', 'w', 'b', 'w'],\n",
       "       ['w', 'b', 'w', 'b', 'w', 'b', 'w', 'b']], dtype='<U1')"
      ]
     },
     "execution_count": 10,
     "metadata": {},
     "output_type": "execute_result"
    }
   ],
   "source": [
    "A = np.array([['b', 'w'], \n",
    "              ['w', 'b']])\n",
    "np.tile(A, (4, 4))"
   ]
  },
  {
   "cell_type": "markdown",
   "id": "a8644cfc-d2e8-442c-896e-bb9421b5dfd8",
   "metadata": {},
   "source": [
    "7. Как найти наиболее близкое значение (к заданному скаляру) в векторе?"
   ]
  },
  {
   "cell_type": "code",
   "execution_count": 11,
   "id": "cd84c92f-81df-4a99-842a-686725012ca0",
   "metadata": {},
   "outputs": [],
   "source": [
    "def search_nearest(x: float, v: np.array) -> float:\n",
    "    index = np.argmin(np.abs(v - x))\n",
    "    return v[index]"
   ]
  },
  {
   "cell_type": "code",
   "execution_count": 12,
   "id": "31d7e2a0-48d8-406c-b63a-cf43ff513ee0",
   "metadata": {},
   "outputs": [
    {
     "data": {
      "text/plain": [
       "4.5"
      ]
     },
     "execution_count": 12,
     "metadata": {},
     "output_type": "execute_result"
    }
   ],
   "source": [
    "x = 4.3\n",
    "v = np.arange(0, 10, 0.5)\n",
    "search_nearest(x, v)"
   ]
  },
  {
   "cell_type": "markdown",
   "id": "993713d8-7b54-41f6-9660-914ae9a8c72c",
   "metadata": {},
   "source": [
    "8. Создайте случайный вектор размером 10 и отсортируйте его"
   ]
  },
  {
   "cell_type": "code",
   "execution_count": 13,
   "id": "76ca7ccf-e933-4823-9641-0c4a6fe062c2",
   "metadata": {},
   "outputs": [
    {
     "data": {
      "text/plain": [
       "array([-878549.36980487, -862360.0528402 , -542201.74344193,\n",
       "       -469748.41291133, -149844.89901574, -145826.77933458,\n",
       "        134252.87008305,  143929.43100215,  462802.68691864,\n",
       "        901432.26059235])"
      ]
     },
     "execution_count": 13,
     "metadata": {},
     "output_type": "execute_result"
    }
   ],
   "source": [
    "np.sort(np.random.uniform(-1e6, 1e6, 10))"
   ]
  },
  {
   "cell_type": "markdown",
   "id": "a1c01801-ef12-421c-816e-22dd27bc77a9",
   "metadata": {},
   "source": [
    "9. Создайте случайный вектор длиной 10 и замените максимальное значение в нем на 0"
   ]
  },
  {
   "cell_type": "code",
   "execution_count": 14,
   "id": "2096db2f-8600-4f85-becc-b659abfc5211",
   "metadata": {},
   "outputs": [
    {
     "name": "stdout",
     "output_type": "stream",
     "text": [
      "[ 248459.44290397 -342726.68564545  -46498.09763406  578079.04827626\n",
      "  608359.08749067 -388282.26630788  498262.33534649 -172707.64358947\n",
      " -901391.20251705  703094.4918114 ]\n",
      "[ 248459.44290397 -342726.68564545  -46498.09763406  578079.04827626\n",
      "  608359.08749067 -388282.26630788  498262.33534649 -172707.64358947\n",
      " -901391.20251705       0.        ]\n"
     ]
    }
   ],
   "source": [
    "random_vector = np.random.uniform(-1e6, 1e6, 10)\n",
    "print(random_vector)\n",
    "\n",
    "max_index = np.argmax(random_vector)\n",
    "random_vector[max_index] = 0\n",
    "print(random_vector)"
   ]
  },
  {
   "cell_type": "markdown",
   "id": "e0f76169-6874-4fec-aea2-4046934b69bc",
   "metadata": {},
   "source": [
    "10. Даны 2 массива Х и Y, постройте матрицу Коши $C$ ($C_{ij} = \\frac{1}{x_i - y_j}$)"
   ]
  },
  {
   "cell_type": "code",
   "execution_count": 15,
   "id": "35cb1574-cbdd-4060-9247-defc15a1dff5",
   "metadata": {},
   "outputs": [],
   "source": [
    "def get_cauchy_matrix(x: np.array, y: np.array) -> np.ndarray:\n",
    "    x_T = x.reshape(-1, 1)\n",
    "    diff_matrix = x_T - y\n",
    "    return 1 / diff_matrix\n",
    "    "
   ]
  },
  {
   "cell_type": "code",
   "execution_count": 16,
   "id": "29810d8c-9c3d-4f1d-992a-c0fae06b337e",
   "metadata": {},
   "outputs": [
    {
     "data": {
      "text/plain": [
       "array([[-0.2       , -0.16666667, -0.14285714, -0.125     , -0.11111111],\n",
       "       [-0.25      , -0.2       , -0.16666667, -0.14285714, -0.125     ],\n",
       "       [-0.33333333, -0.25      , -0.2       , -0.16666667, -0.14285714]])"
      ]
     },
     "execution_count": 16,
     "metadata": {},
     "output_type": "execute_result"
    }
   ],
   "source": [
    "x = np.arange(3)\n",
    "y = np.arange(5, 10)\n",
    "get_cauchy_matrix(x, y)"
   ]
  },
  {
   "cell_type": "markdown",
   "id": "71788cf1-8f66-47d5-a90b-65689f7b836c",
   "metadata": {},
   "source": [
    "### 2. Pandas"
   ]
  },
  {
   "cell_type": "markdown",
   "id": "c3f6b194-83de-45cc-a6da-f1def5de88a7",
   "metadata": {},
   "source": [
    "Представлено 2 датасета в формате CSV.\n",
    "\n",
    "Найдите ответы на вопросы или выполните действия с предложенным датасетом\n",
    "\n",
    "Файлы: `countries.csv`, `covid-country-data.csv`"
   ]
  },
  {
   "cell_type": "code",
   "execution_count": 17,
   "id": "39f2f1ec-760a-429e-b5be-49a3edbeb663",
   "metadata": {},
   "outputs": [],
   "source": [
    "import pandas as pd"
   ]
  },
  {
   "cell_type": "code",
   "execution_count": 18,
   "id": "7e7adb23-8da7-4e18-8339-74b25b58db76",
   "metadata": {},
   "outputs": [],
   "source": [
    "# Load data here"
   ]
  },
  {
   "cell_type": "code",
   "execution_count": 19,
   "id": "c7d3135b-edf7-4e82-bbcb-b920980c79c6",
   "metadata": {},
   "outputs": [],
   "source": [
    "data = pd.read_csv('countries.csv')"
   ]
  },
  {
   "cell_type": "code",
   "execution_count": 20,
   "id": "446c38b0-313f-4f19-8be0-a90d17f3d0ab",
   "metadata": {},
   "outputs": [
    {
     "data": {
      "text/html": [
       "<div>\n",
       "<style scoped>\n",
       "    .dataframe tbody tr th:only-of-type {\n",
       "        vertical-align: middle;\n",
       "    }\n",
       "\n",
       "    .dataframe tbody tr th {\n",
       "        vertical-align: top;\n",
       "    }\n",
       "\n",
       "    .dataframe thead th {\n",
       "        text-align: right;\n",
       "    }\n",
       "</style>\n",
       "<table border=\"1\" class=\"dataframe\">\n",
       "  <thead>\n",
       "    <tr style=\"text-align: right;\">\n",
       "      <th></th>\n",
       "      <th>location</th>\n",
       "      <th>continent</th>\n",
       "      <th>population</th>\n",
       "      <th>life_expectancy</th>\n",
       "      <th>hospital_beds_per_thousand</th>\n",
       "      <th>gdp_per_capita</th>\n",
       "    </tr>\n",
       "  </thead>\n",
       "  <tbody>\n",
       "    <tr>\n",
       "      <th>0</th>\n",
       "      <td>Afghanistan</td>\n",
       "      <td>Asia</td>\n",
       "      <td>38928341.0</td>\n",
       "      <td>64.83</td>\n",
       "      <td>0.50</td>\n",
       "      <td>1803.987</td>\n",
       "    </tr>\n",
       "    <tr>\n",
       "      <th>1</th>\n",
       "      <td>Albania</td>\n",
       "      <td>Europe</td>\n",
       "      <td>2877800.0</td>\n",
       "      <td>78.57</td>\n",
       "      <td>2.89</td>\n",
       "      <td>11803.431</td>\n",
       "    </tr>\n",
       "    <tr>\n",
       "      <th>2</th>\n",
       "      <td>Algeria</td>\n",
       "      <td>Africa</td>\n",
       "      <td>43851043.0</td>\n",
       "      <td>76.88</td>\n",
       "      <td>1.90</td>\n",
       "      <td>13913.839</td>\n",
       "    </tr>\n",
       "    <tr>\n",
       "      <th>3</th>\n",
       "      <td>Andorra</td>\n",
       "      <td>Europe</td>\n",
       "      <td>77265.0</td>\n",
       "      <td>83.73</td>\n",
       "      <td>NaN</td>\n",
       "      <td>NaN</td>\n",
       "    </tr>\n",
       "    <tr>\n",
       "      <th>4</th>\n",
       "      <td>Angola</td>\n",
       "      <td>Africa</td>\n",
       "      <td>32866268.0</td>\n",
       "      <td>61.15</td>\n",
       "      <td>NaN</td>\n",
       "      <td>5819.495</td>\n",
       "    </tr>\n",
       "  </tbody>\n",
       "</table>\n",
       "</div>"
      ],
      "text/plain": [
       "      location continent  population  life_expectancy  \\\n",
       "0  Afghanistan      Asia  38928341.0            64.83   \n",
       "1      Albania    Europe   2877800.0            78.57   \n",
       "2      Algeria    Africa  43851043.0            76.88   \n",
       "3      Andorra    Europe     77265.0            83.73   \n",
       "4       Angola    Africa  32866268.0            61.15   \n",
       "\n",
       "   hospital_beds_per_thousand  gdp_per_capita  \n",
       "0                        0.50        1803.987  \n",
       "1                        2.89       11803.431  \n",
       "2                        1.90       13913.839  \n",
       "3                         NaN             NaN  \n",
       "4                         NaN        5819.495  "
      ]
     },
     "execution_count": 20,
     "metadata": {},
     "output_type": "execute_result"
    }
   ],
   "source": [
    "data.head()"
   ]
  },
  {
   "cell_type": "markdown",
   "id": "d7f3d8f5-eb80-4d0e-b448-dfb6b2e5a857",
   "metadata": {},
   "source": [
    "1. Какое общее население планеты, согласно датасету?"
   ]
  },
  {
   "cell_type": "code",
   "execution_count": 21,
   "id": "a37dad90-aec4-42ee-928c-7cbc2381636c",
   "metadata": {},
   "outputs": [
    {
     "data": {
      "text/plain": [
       "7757980095.0"
      ]
     },
     "execution_count": 21,
     "metadata": {},
     "output_type": "execute_result"
    }
   ],
   "source": [
    "data['population'].sum()"
   ]
  },
  {
   "cell_type": "markdown",
   "id": "dcfbb87a-cdcb-46bc-b529-113c4e017cd2",
   "metadata": {
    "jp-MarkdownHeadingCollapsed": true
   },
   "source": [
    "2. Выведите страну с наименьшей продолжительностью жизни"
   ]
  },
  {
   "cell_type": "code",
   "execution_count": 22,
   "id": "0c70b56e-9223-4c50-9d9d-3f620a74aefb",
   "metadata": {},
   "outputs": [
    {
     "data": {
      "text/html": [
       "<div>\n",
       "<style scoped>\n",
       "    .dataframe tbody tr th:only-of-type {\n",
       "        vertical-align: middle;\n",
       "    }\n",
       "\n",
       "    .dataframe tbody tr th {\n",
       "        vertical-align: top;\n",
       "    }\n",
       "\n",
       "    .dataframe thead th {\n",
       "        text-align: right;\n",
       "    }\n",
       "</style>\n",
       "<table border=\"1\" class=\"dataframe\">\n",
       "  <thead>\n",
       "    <tr style=\"text-align: right;\">\n",
       "      <th></th>\n",
       "      <th>location</th>\n",
       "      <th>life_expectancy</th>\n",
       "    </tr>\n",
       "  </thead>\n",
       "  <tbody>\n",
       "    <tr>\n",
       "      <th>38</th>\n",
       "      <td>Central African Republic</td>\n",
       "      <td>53.28</td>\n",
       "    </tr>\n",
       "  </tbody>\n",
       "</table>\n",
       "</div>"
      ],
      "text/plain": [
       "                    location  life_expectancy\n",
       "38  Central African Republic            53.28"
      ]
     },
     "execution_count": 22,
     "metadata": {},
     "output_type": "execute_result"
    }
   ],
   "source": [
    "min_life_expectancy = data['life_expectancy'].min()\n",
    "country = data[data['life_expectancy'] == min_life_expectancy]\n",
    "country[['location', 'life_expectancy']]"
   ]
  },
  {
   "cell_type": "markdown",
   "id": "002491e6-278f-4055-9f6c-bf5fc3e2dd87",
   "metadata": {},
   "source": [
    "3. Выведите страну с наибольшим ВВП на душу населения ('gdp_per_capita')"
   ]
  },
  {
   "cell_type": "code",
   "execution_count": 23,
   "id": "3add9e4d-8643-48ea-a55d-0a13a58cb6f4",
   "metadata": {},
   "outputs": [
    {
     "data": {
      "text/html": [
       "<div>\n",
       "<style scoped>\n",
       "    .dataframe tbody tr th:only-of-type {\n",
       "        vertical-align: middle;\n",
       "    }\n",
       "\n",
       "    .dataframe tbody tr th {\n",
       "        vertical-align: top;\n",
       "    }\n",
       "\n",
       "    .dataframe thead th {\n",
       "        text-align: right;\n",
       "    }\n",
       "</style>\n",
       "<table border=\"1\" class=\"dataframe\">\n",
       "  <thead>\n",
       "    <tr style=\"text-align: right;\">\n",
       "      <th></th>\n",
       "      <th>location</th>\n",
       "      <th>gdp_per_capita</th>\n",
       "    </tr>\n",
       "  </thead>\n",
       "  <tbody>\n",
       "    <tr>\n",
       "      <th>155</th>\n",
       "      <td>Qatar</td>\n",
       "      <td>116935.6</td>\n",
       "    </tr>\n",
       "  </tbody>\n",
       "</table>\n",
       "</div>"
      ],
      "text/plain": [
       "    location  gdp_per_capita\n",
       "155    Qatar        116935.6"
      ]
     },
     "execution_count": 23,
     "metadata": {},
     "output_type": "execute_result"
    }
   ],
   "source": [
    "max_gdp_per_capita = data['gdp_per_capita'].max()\n",
    "country = data[data['gdp_per_capita'] == max_gdp_per_capita]\n",
    "country[['location', 'gdp_per_capita']]"
   ]
  },
  {
   "cell_type": "markdown",
   "id": "113f377e-2620-4103-8c5c-d7247d06b33d",
   "metadata": {},
   "source": [
    "4. Заполните пропуски в 'life_expectancy' медианным значением и посчитайте среднюю продолжительность жизни"
   ]
  },
  {
   "cell_type": "code",
   "execution_count": 24,
   "id": "53b8f975-0df6-45dd-882d-493dcb12c03e",
   "metadata": {},
   "outputs": [
    {
     "name": "stdout",
     "output_type": "stream",
     "text": [
      "<class 'pandas.core.frame.DataFrame'>\n",
      "RangeIndex: 210 entries, 0 to 209\n",
      "Data columns (total 6 columns):\n",
      " #   Column                      Non-Null Count  Dtype  \n",
      "---  ------                      --------------  -----  \n",
      " 0   location                    210 non-null    object \n",
      " 1   continent                   210 non-null    object \n",
      " 2   population                  210 non-null    float64\n",
      " 3   life_expectancy             210 non-null    float64\n",
      " 4   hospital_beds_per_thousand  164 non-null    float64\n",
      " 5   gdp_per_capita              183 non-null    float64\n",
      "dtypes: float64(4), object(2)\n",
      "memory usage: 10.0+ KB\n"
     ]
    }
   ],
   "source": [
    "median = data['life_expectancy'].median()\n",
    "data['life_expectancy'] = data['life_expectancy'].fillna(median)\n",
    "data.info()"
   ]
  },
  {
   "cell_type": "code",
   "execution_count": 25,
   "id": "21d69824-cbc0-421c-9f71-ad57301f69a1",
   "metadata": {},
   "outputs": [
    {
     "data": {
      "text/plain": [
       "73.55214285714285"
      ]
     },
     "execution_count": 25,
     "metadata": {},
     "output_type": "execute_result"
    }
   ],
   "source": [
    "data['life_expectancy'].mean()"
   ]
  },
  {
   "cell_type": "markdown",
   "id": "24f4f211-f1cf-47ad-9788-6008d786cad1",
   "metadata": {},
   "source": [
    "5. Выведите топ-15 стран по численности населения"
   ]
  },
  {
   "cell_type": "code",
   "execution_count": 26,
   "id": "ef0f7986-8b6b-4e52-9706-dba9a6f2aeca",
   "metadata": {},
   "outputs": [
    {
     "data": {
      "text/html": [
       "<div>\n",
       "<style scoped>\n",
       "    .dataframe tbody tr th:only-of-type {\n",
       "        vertical-align: middle;\n",
       "    }\n",
       "\n",
       "    .dataframe tbody tr th {\n",
       "        vertical-align: top;\n",
       "    }\n",
       "\n",
       "    .dataframe thead th {\n",
       "        text-align: right;\n",
       "    }\n",
       "</style>\n",
       "<table border=\"1\" class=\"dataframe\">\n",
       "  <thead>\n",
       "    <tr style=\"text-align: right;\">\n",
       "      <th></th>\n",
       "      <th>location</th>\n",
       "      <th>population</th>\n",
       "    </tr>\n",
       "  </thead>\n",
       "  <tbody>\n",
       "    <tr>\n",
       "      <th>41</th>\n",
       "      <td>China</td>\n",
       "      <td>1.439324e+09</td>\n",
       "    </tr>\n",
       "    <tr>\n",
       "      <th>90</th>\n",
       "      <td>India</td>\n",
       "      <td>1.380004e+09</td>\n",
       "    </tr>\n",
       "    <tr>\n",
       "      <th>199</th>\n",
       "      <td>United States</td>\n",
       "      <td>3.310026e+08</td>\n",
       "    </tr>\n",
       "    <tr>\n",
       "      <th>91</th>\n",
       "      <td>Indonesia</td>\n",
       "      <td>2.735236e+08</td>\n",
       "    </tr>\n",
       "    <tr>\n",
       "      <th>145</th>\n",
       "      <td>Pakistan</td>\n",
       "      <td>2.208923e+08</td>\n",
       "    </tr>\n",
       "    <tr>\n",
       "      <th>27</th>\n",
       "      <td>Brazil</td>\n",
       "      <td>2.125594e+08</td>\n",
       "    </tr>\n",
       "    <tr>\n",
       "      <th>141</th>\n",
       "      <td>Nigeria</td>\n",
       "      <td>2.061396e+08</td>\n",
       "    </tr>\n",
       "    <tr>\n",
       "      <th>15</th>\n",
       "      <td>Bangladesh</td>\n",
       "      <td>1.646894e+08</td>\n",
       "    </tr>\n",
       "    <tr>\n",
       "      <th>157</th>\n",
       "      <td>Russia</td>\n",
       "      <td>1.459345e+08</td>\n",
       "    </tr>\n",
       "    <tr>\n",
       "      <th>125</th>\n",
       "      <td>Mexico</td>\n",
       "      <td>1.289328e+08</td>\n",
       "    </tr>\n",
       "    <tr>\n",
       "      <th>99</th>\n",
       "      <td>Japan</td>\n",
       "      <td>1.264765e+08</td>\n",
       "    </tr>\n",
       "    <tr>\n",
       "      <th>63</th>\n",
       "      <td>Ethiopia</td>\n",
       "      <td>1.149636e+08</td>\n",
       "    </tr>\n",
       "    <tr>\n",
       "      <th>151</th>\n",
       "      <td>Philippines</td>\n",
       "      <td>1.095811e+08</td>\n",
       "    </tr>\n",
       "    <tr>\n",
       "      <th>58</th>\n",
       "      <td>Egypt</td>\n",
       "      <td>1.023344e+08</td>\n",
       "    </tr>\n",
       "    <tr>\n",
       "      <th>205</th>\n",
       "      <td>Vietnam</td>\n",
       "      <td>9.733858e+07</td>\n",
       "    </tr>\n",
       "  </tbody>\n",
       "</table>\n",
       "</div>"
      ],
      "text/plain": [
       "          location    population\n",
       "41           China  1.439324e+09\n",
       "90           India  1.380004e+09\n",
       "199  United States  3.310026e+08\n",
       "91       Indonesia  2.735236e+08\n",
       "145       Pakistan  2.208923e+08\n",
       "27          Brazil  2.125594e+08\n",
       "141        Nigeria  2.061396e+08\n",
       "15      Bangladesh  1.646894e+08\n",
       "157         Russia  1.459345e+08\n",
       "125         Mexico  1.289328e+08\n",
       "99           Japan  1.264765e+08\n",
       "63        Ethiopia  1.149636e+08\n",
       "151    Philippines  1.095811e+08\n",
       "58           Egypt  1.023344e+08\n",
       "205        Vietnam  9.733858e+07"
      ]
     },
     "execution_count": 26,
     "metadata": {},
     "output_type": "execute_result"
    }
   ],
   "source": [
    "data[['location', 'population']].sort_values(by='population', ascending=False).head(15)"
   ]
  },
  {
   "cell_type": "markdown",
   "id": "2a33ea01-5108-4cbd-be23-f1090dbd6dc6",
   "metadata": {},
   "source": [
    "6. Среди стран, входящих в топ-25 по ВВП на душу населения (gdp_per_capita) выведите 5 стран с наименьшим населением"
   ]
  },
  {
   "cell_type": "code",
   "execution_count": 27,
   "id": "fff4add1-5f3f-4dc3-9b3f-b27ff336cf67",
   "metadata": {},
   "outputs": [
    {
     "data": {
      "text/html": [
       "<div>\n",
       "<style scoped>\n",
       "    .dataframe tbody tr th:only-of-type {\n",
       "        vertical-align: middle;\n",
       "    }\n",
       "\n",
       "    .dataframe tbody tr th {\n",
       "        vertical-align: top;\n",
       "    }\n",
       "\n",
       "    .dataframe thead th {\n",
       "        text-align: right;\n",
       "    }\n",
       "</style>\n",
       "<table border=\"1\" class=\"dataframe\">\n",
       "  <thead>\n",
       "    <tr style=\"text-align: right;\">\n",
       "      <th></th>\n",
       "      <th>location</th>\n",
       "      <th>population</th>\n",
       "      <th>gdp_per_capita</th>\n",
       "    </tr>\n",
       "  </thead>\n",
       "  <tbody>\n",
       "    <tr>\n",
       "      <th>162</th>\n",
       "      <td>San Marino</td>\n",
       "      <td>33938.0</td>\n",
       "      <td>56861.470</td>\n",
       "    </tr>\n",
       "    <tr>\n",
       "      <th>21</th>\n",
       "      <td>Bermuda</td>\n",
       "      <td>62273.0</td>\n",
       "      <td>50669.315</td>\n",
       "    </tr>\n",
       "    <tr>\n",
       "      <th>37</th>\n",
       "      <td>Cayman Islands</td>\n",
       "      <td>65720.0</td>\n",
       "      <td>49903.029</td>\n",
       "    </tr>\n",
       "    <tr>\n",
       "      <th>89</th>\n",
       "      <td>Iceland</td>\n",
       "      <td>341250.0</td>\n",
       "      <td>46482.958</td>\n",
       "    </tr>\n",
       "    <tr>\n",
       "      <th>29</th>\n",
       "      <td>Brunei</td>\n",
       "      <td>437483.0</td>\n",
       "      <td>71809.251</td>\n",
       "    </tr>\n",
       "  </tbody>\n",
       "</table>\n",
       "</div>"
      ],
      "text/plain": [
       "           location  population  gdp_per_capita\n",
       "162      San Marino     33938.0       56861.470\n",
       "21          Bermuda     62273.0       50669.315\n",
       "37   Cayman Islands     65720.0       49903.029\n",
       "89          Iceland    341250.0       46482.958\n",
       "29           Brunei    437483.0       71809.251"
      ]
     },
     "execution_count": 27,
     "metadata": {},
     "output_type": "execute_result"
    }
   ],
   "source": [
    "top_25 = data.sort_values(by='gdp_per_capita', ascending=False).iloc[0:25]\n",
    "top_25[['location', 'population', 'gdp_per_capita']].sort_values(by='population').head()"
   ]
  },
  {
   "cell_type": "markdown",
   "id": "a8a1ec71-2d64-46d6-baf1-d9dde6c2c141",
   "metadata": {},
   "source": [
    "7. Соедините таблицы covid-country-data и countries"
   ]
  },
  {
   "cell_type": "code",
   "execution_count": 28,
   "id": "68176e4a-d971-4728-89e2-ffeab4662466",
   "metadata": {},
   "outputs": [],
   "source": [
    "covid_data = pd.read_csv('covid-country-data.csv')"
   ]
  },
  {
   "cell_type": "code",
   "execution_count": 29,
   "id": "79619d31-985c-4d43-9977-df00d7ecdf83",
   "metadata": {},
   "outputs": [
    {
     "data": {
      "text/html": [
       "<div>\n",
       "<style scoped>\n",
       "    .dataframe tbody tr th:only-of-type {\n",
       "        vertical-align: middle;\n",
       "    }\n",
       "\n",
       "    .dataframe tbody tr th {\n",
       "        vertical-align: top;\n",
       "    }\n",
       "\n",
       "    .dataframe thead th {\n",
       "        text-align: right;\n",
       "    }\n",
       "</style>\n",
       "<table border=\"1\" class=\"dataframe\">\n",
       "  <thead>\n",
       "    <tr style=\"text-align: right;\">\n",
       "      <th></th>\n",
       "      <th>location</th>\n",
       "      <th>total_cases</th>\n",
       "      <th>total_deaths</th>\n",
       "      <th>total_tests</th>\n",
       "    </tr>\n",
       "  </thead>\n",
       "  <tbody>\n",
       "    <tr>\n",
       "      <th>0</th>\n",
       "      <td>Afghanistan</td>\n",
       "      <td>38243.0</td>\n",
       "      <td>1409.0</td>\n",
       "      <td>NaN</td>\n",
       "    </tr>\n",
       "    <tr>\n",
       "      <th>1</th>\n",
       "      <td>Albania</td>\n",
       "      <td>9728.0</td>\n",
       "      <td>296.0</td>\n",
       "      <td>NaN</td>\n",
       "    </tr>\n",
       "    <tr>\n",
       "      <th>2</th>\n",
       "      <td>Algeria</td>\n",
       "      <td>45158.0</td>\n",
       "      <td>1525.0</td>\n",
       "      <td>NaN</td>\n",
       "    </tr>\n",
       "    <tr>\n",
       "      <th>3</th>\n",
       "      <td>Andorra</td>\n",
       "      <td>1199.0</td>\n",
       "      <td>53.0</td>\n",
       "      <td>NaN</td>\n",
       "    </tr>\n",
       "    <tr>\n",
       "      <th>4</th>\n",
       "      <td>Angola</td>\n",
       "      <td>2729.0</td>\n",
       "      <td>109.0</td>\n",
       "      <td>NaN</td>\n",
       "    </tr>\n",
       "  </tbody>\n",
       "</table>\n",
       "</div>"
      ],
      "text/plain": [
       "      location  total_cases  total_deaths  total_tests\n",
       "0  Afghanistan      38243.0        1409.0          NaN\n",
       "1      Albania       9728.0         296.0          NaN\n",
       "2      Algeria      45158.0        1525.0          NaN\n",
       "3      Andorra       1199.0          53.0          NaN\n",
       "4       Angola       2729.0         109.0          NaN"
      ]
     },
     "execution_count": 29,
     "metadata": {},
     "output_type": "execute_result"
    }
   ],
   "source": [
    "covid_data.head()"
   ]
  },
  {
   "cell_type": "code",
   "execution_count": 30,
   "id": "f0a5c2a7-a47a-4f70-9b8a-bedcde20f8d7",
   "metadata": {},
   "outputs": [
    {
     "data": {
      "text/html": [
       "<div>\n",
       "<style scoped>\n",
       "    .dataframe tbody tr th:only-of-type {\n",
       "        vertical-align: middle;\n",
       "    }\n",
       "\n",
       "    .dataframe tbody tr th {\n",
       "        vertical-align: top;\n",
       "    }\n",
       "\n",
       "    .dataframe thead th {\n",
       "        text-align: right;\n",
       "    }\n",
       "</style>\n",
       "<table border=\"1\" class=\"dataframe\">\n",
       "  <thead>\n",
       "    <tr style=\"text-align: right;\">\n",
       "      <th></th>\n",
       "      <th>location</th>\n",
       "      <th>continent</th>\n",
       "      <th>population</th>\n",
       "      <th>life_expectancy</th>\n",
       "      <th>hospital_beds_per_thousand</th>\n",
       "      <th>gdp_per_capita</th>\n",
       "      <th>total_cases</th>\n",
       "      <th>total_deaths</th>\n",
       "      <th>total_tests</th>\n",
       "    </tr>\n",
       "  </thead>\n",
       "  <tbody>\n",
       "    <tr>\n",
       "      <th>0</th>\n",
       "      <td>Afghanistan</td>\n",
       "      <td>Asia</td>\n",
       "      <td>38928341.0</td>\n",
       "      <td>64.83</td>\n",
       "      <td>0.50</td>\n",
       "      <td>1803.987</td>\n",
       "      <td>38243.0</td>\n",
       "      <td>1409.0</td>\n",
       "      <td>NaN</td>\n",
       "    </tr>\n",
       "    <tr>\n",
       "      <th>1</th>\n",
       "      <td>Albania</td>\n",
       "      <td>Europe</td>\n",
       "      <td>2877800.0</td>\n",
       "      <td>78.57</td>\n",
       "      <td>2.89</td>\n",
       "      <td>11803.431</td>\n",
       "      <td>9728.0</td>\n",
       "      <td>296.0</td>\n",
       "      <td>NaN</td>\n",
       "    </tr>\n",
       "    <tr>\n",
       "      <th>2</th>\n",
       "      <td>Algeria</td>\n",
       "      <td>Africa</td>\n",
       "      <td>43851043.0</td>\n",
       "      <td>76.88</td>\n",
       "      <td>1.90</td>\n",
       "      <td>13913.839</td>\n",
       "      <td>45158.0</td>\n",
       "      <td>1525.0</td>\n",
       "      <td>NaN</td>\n",
       "    </tr>\n",
       "    <tr>\n",
       "      <th>3</th>\n",
       "      <td>Andorra</td>\n",
       "      <td>Europe</td>\n",
       "      <td>77265.0</td>\n",
       "      <td>83.73</td>\n",
       "      <td>NaN</td>\n",
       "      <td>NaN</td>\n",
       "      <td>1199.0</td>\n",
       "      <td>53.0</td>\n",
       "      <td>NaN</td>\n",
       "    </tr>\n",
       "    <tr>\n",
       "      <th>4</th>\n",
       "      <td>Angola</td>\n",
       "      <td>Africa</td>\n",
       "      <td>32866268.0</td>\n",
       "      <td>61.15</td>\n",
       "      <td>NaN</td>\n",
       "      <td>5819.495</td>\n",
       "      <td>2729.0</td>\n",
       "      <td>109.0</td>\n",
       "      <td>NaN</td>\n",
       "    </tr>\n",
       "  </tbody>\n",
       "</table>\n",
       "</div>"
      ],
      "text/plain": [
       "      location continent  population  life_expectancy  \\\n",
       "0  Afghanistan      Asia  38928341.0            64.83   \n",
       "1      Albania    Europe   2877800.0            78.57   \n",
       "2      Algeria    Africa  43851043.0            76.88   \n",
       "3      Andorra    Europe     77265.0            83.73   \n",
       "4       Angola    Africa  32866268.0            61.15   \n",
       "\n",
       "   hospital_beds_per_thousand  gdp_per_capita  total_cases  total_deaths  \\\n",
       "0                        0.50        1803.987      38243.0        1409.0   \n",
       "1                        2.89       11803.431       9728.0         296.0   \n",
       "2                        1.90       13913.839      45158.0        1525.0   \n",
       "3                         NaN             NaN       1199.0          53.0   \n",
       "4                         NaN        5819.495       2729.0         109.0   \n",
       "\n",
       "   total_tests  \n",
       "0          NaN  \n",
       "1          NaN  \n",
       "2          NaN  \n",
       "3          NaN  \n",
       "4          NaN  "
      ]
     },
     "execution_count": 30,
     "metadata": {},
     "output_type": "execute_result"
    }
   ],
   "source": [
    "merged_data = pd.merge(data, covid_data, on='location')\n",
    "merged_data.head()"
   ]
  },
  {
   "cell_type": "markdown",
   "id": "d63c4360-d6d6-4b19-8866-357831d19562",
   "metadata": {},
   "source": [
    "8. Добавьте для всех стран добавьте колонку, в которой была бы отражена смертность на 1 млн человек населения (пропуски заполните средним значением)"
   ]
  },
  {
   "cell_type": "code",
   "execution_count": 31,
   "id": "f4f5e8db-27c2-4397-831d-c2ba679b0f3c",
   "metadata": {},
   "outputs": [],
   "source": [
    "merged_data['mortality'] = merged_data['total_deaths'] / merged_data['population'] * 1e6"
   ]
  },
  {
   "cell_type": "code",
   "execution_count": 32,
   "id": "8b28b1fc-868f-4990-b62c-9181327cf7df",
   "metadata": {},
   "outputs": [
    {
     "data": {
      "text/plain": [
       "105.75880735197039"
      ]
     },
     "execution_count": 32,
     "metadata": {},
     "output_type": "execute_result"
    }
   ],
   "source": [
    "mean = merged_data['mortality'].mean()\n",
    "mean"
   ]
  },
  {
   "cell_type": "code",
   "execution_count": 33,
   "id": "db39f2c6-a84d-4d59-9a70-92f04db9ef73",
   "metadata": {},
   "outputs": [
    {
     "name": "stdout",
     "output_type": "stream",
     "text": [
      "<class 'pandas.core.frame.DataFrame'>\n",
      "RangeIndex: 210 entries, 0 to 209\n",
      "Data columns (total 10 columns):\n",
      " #   Column                      Non-Null Count  Dtype  \n",
      "---  ------                      --------------  -----  \n",
      " 0   location                    210 non-null    object \n",
      " 1   continent                   210 non-null    object \n",
      " 2   population                  210 non-null    float64\n",
      " 3   life_expectancy             210 non-null    float64\n",
      " 4   hospital_beds_per_thousand  164 non-null    float64\n",
      " 5   gdp_per_capita              183 non-null    float64\n",
      " 6   total_cases                 209 non-null    float64\n",
      " 7   total_deaths                209 non-null    float64\n",
      " 8   total_tests                 90 non-null     float64\n",
      " 9   mortality                   210 non-null    float64\n",
      "dtypes: float64(8), object(2)\n",
      "memory usage: 16.5+ KB\n"
     ]
    }
   ],
   "source": [
    "merged_data['mortality'] = merged_data['mortality'].fillna(mean)\n",
    "merged_data.info()"
   ]
  },
  {
   "cell_type": "markdown",
   "id": "ca5c7aa7-87e3-4910-b210-e80f22d5624e",
   "metadata": {},
   "source": [
    "### 3. Визуализация"
   ]
  },
  {
   "cell_type": "markdown",
   "id": "0ef1d009-614d-4e27-8d24-bf51ac3caba9",
   "metadata": {},
   "source": [
    "Используя библиотеки matplotlib/sns/plotly/pandas и набор данных представленный ранее визуализируйте"
   ]
  },
  {
   "cell_type": "markdown",
   "id": "e4d55de3-11af-4428-84c2-e5bf7e191841",
   "metadata": {},
   "source": [
    "1. Сделайте круговую диаграмму, на которой были бы отражено число заболеваний COVID-19 по континентам"
   ]
  },
  {
   "cell_type": "code",
   "execution_count": 34,
   "id": "b57ec1a4-0dfb-44ac-b949-1c237ef31c7b",
   "metadata": {},
   "outputs": [],
   "source": [
    "import matplotlib.pyplot as plt\n",
    "from matplotlib.ticker import FuncFormatter\n",
    "\n",
    "color_map = plt.get_cmap()\n",
    "rescale = lambda x: (x - x.min()) / (x.max() - x.min())"
   ]
  },
  {
   "cell_type": "code",
   "execution_count": 35,
   "id": "699fa499-2d99-45d7-a776-489263d42247",
   "metadata": {},
   "outputs": [
    {
     "data": {
      "image/png": "[encoded data removed]",
      "text/plain": [
       "<Figure size 640x480 with 1 Axes>"
      ]
     },
     "metadata": {},
     "output_type": "display_data"
    }
   ],
   "source": [
    "cols = ['continent', 'total_cases']\n",
    "cases_by_continents = merged_data[cols].groupby('continent').sum()\n",
    "\n",
    "continents = cases_by_continents.index\n",
    "cases = cases_by_continents['total_cases']\n",
    "total_cases = cases.sum()\n",
    "\n",
    "def get_absolute_value(value):\n",
    "    absolute_value = (value / 100) * total_cases\n",
    "    if absolute_value >= 1e6:\n",
    "        return f'{absolute_value / 1e6:.1f}M'\n",
    "    else:\n",
    "        return f'{absolute_value / 1e3:.0f}K'\n",
    "\n",
    "\n",
    "plt.title('COVID-19 Cases by Continents')\n",
    "plt.pie(cases, labels=continents, autopct=get_absolute_value)\n",
    "plt.show()"
   ]
  },
  {
   "cell_type": "markdown",
   "id": "73139dab-2ff9-4ad0-aa1a-39e216b38a88",
   "metadata": {},
   "source": [
    "2. Постройте диаграмму, на которой в порядке убывания были бы отмечены число тестов на COVID-19 в России, Китае, США, Индии и Нигерии"
   ]
  },
  {
   "cell_type": "code",
   "execution_count": 36,
   "id": "f392f906-169b-4be8-ae79-1dee4b9318c6",
   "metadata": {},
   "outputs": [
    {
     "data": {
      "image/png": "[encoded data removed]",
      "text/plain": [
       "<Figure size 640x480 with 1 Axes>"
      ]
     },
     "metadata": {},
     "output_type": "display_data"
    }
   ],
   "source": [
    "countries = ['Russia', 'China', 'United States', 'India', 'Nigeria']\n",
    "cols = ['location', 'total_tests']\n",
    "tests_data = merged_data[merged_data['location'].isin(countries)][cols]\n",
    "tests_data.sort_values(by='total_tests', ascending=False, inplace=True)\n",
    "tests_data.fillna(0, inplace=True)\n",
    "\n",
    "location = tests_data['location']\n",
    "tests = tests_data['total_tests']\n",
    "\n",
    "get_millions = lambda x, pos=None: f'{x / 1e6:.0f}M' if x else '0'\n",
    "get_thousands = lambda x: f'{x / 1e3:.0f}K' if x else '0'\n",
    "get_millions_or_thousands = lambda x: get_millions(x) if x >= 1e6 else get_thousands(x)\n",
    "\n",
    "plt.title('COVID-19 Tests by Countries')\n",
    "bar_container = plt.bar(location, tests, color=color_map(rescale(tests)))\n",
    "plt.ylabel('Number of Tests')\n",
    "plt.gca().yaxis.set_major_formatter(FuncFormatter(get_millions))\n",
    "plt.bar_label(bar_container, fmt=get_millions_or_thousands)\n",
    "plt.show()"
   ]
  },
  {
   "cell_type": "markdown",
   "id": "f4312ba5-24e9-4ba1-8b83-47f2e6adc0b3",
   "metadata": {},
   "source": [
    "3. Визуализируйте зависимость ВВП страны и случаев заболевания COVID-19"
   ]
  },
  {
   "cell_type": "code",
   "execution_count": 37,
   "id": "2e24856a-a2b9-4856-9ba8-f976eb64f15d",
   "metadata": {},
   "outputs": [
    {
     "data": {
      "image/png": "[encoded data removed]",
      "text/plain": [
       "<Figure size 1600x900 with 1 Axes>"
      ]
     },
     "metadata": {},
     "output_type": "display_data"
    }
   ],
   "source": [
    "get_trillion_dollars = lambda x, pos: f'{x / 1e12:.0f}T USD' if x else '0 USD'\n",
    "\n",
    "merged_data['gdp'] = merged_data['gdp_per_capita'] * merged_data['population'] \n",
    "\n",
    "df = merged_data[['location', 'gdp', 'total_cases']].sort_values(by='total_cases', ascending=False)\n",
    "df.dropna(inplace=True)\n",
    "\n",
    "plt.figure(figsize=(16, 9))\n",
    "plt.title('Dependence of COVID-19 Cases on GDP')\n",
    "plt.scatter(df['gdp'], df['total_cases'])\n",
    "plt.xlabel('GDP')\n",
    "plt.ylabel('COVID-19 Cases')\n",
    "\n",
    "plt.gca().yaxis.set_major_formatter(FuncFormatter(get_millions))\n",
    "plt.gca().xaxis.set_major_formatter(FuncFormatter(get_trillion_dollars))\n",
    "\n",
    "plt.grid()\n",
    "plt.show()"
   ]
  },
  {
   "cell_type": "markdown",
   "id": "3cf72686-0c04-4d4d-a6a5-19ba44cd904c",
   "metadata": {},
   "source": [
    "4. Постройте гистограмму распределения количества смертей на один миллион человек"
   ]
  },
  {
   "cell_type": "code",
   "execution_count": 38,
   "id": "097ecabb-afc7-4c5d-b6f9-af3fc70a3c7a",
   "metadata": {},
   "outputs": [
    {
     "data": {
      "image/png": "[encoded data removed]",
      "text/plain": [
       "<Figure size 640x480 with 1 Axes>"
      ]
     },
     "metadata": {},
     "output_type": "display_data"
    }
   ],
   "source": [
    "ax = merged_data['mortality'].hist(bins=15)\n",
    "plt.title('Distribution of Deaths per Million People')\n",
    "plt.xlabel('Deaths per Million People')\n",
    "plt.ylabel('Frequency')\n",
    "\n",
    "plt.show()"
   ]
  },
  {
   "cell_type": "markdown",
   "id": "62d2a839-dce0-4299-b9ac-ce21bed98e49",
   "metadata": {},
   "source": [
    "5. Постройте диаграмму отображающую среднюю продолжительность жизни в разных странах европы"
   ]
  },
  {
   "cell_type": "code",
   "execution_count": 39,
   "id": "d00edc40-027b-4e0f-b627-7e4b246419da",
   "metadata": {},
   "outputs": [
    {
     "data": {
      "image/png": "[encoded data removed]",
      "text/plain": [
       "<Figure size 1600x500 with 1 Axes>"
      ]
     },
     "metadata": {},
     "output_type": "display_data"
    }
   ],
   "source": [
    "eu_data = merged_data[merged_data['continent'] == 'Europe'].sort_values(by='life_expectancy', ascending=False)\n",
    "countries = eu_data['location']\n",
    "life_expectancy = eu_data['life_expectancy']\n",
    "\n",
    "plt.figure(figsize=(16, 5))\n",
    "plt.title('Life Expectancy in European Countries') \n",
    "plt.xticks(rotation=90)\n",
    "plt.bar(countries, life_expectancy, color=color_map(rescale(life_expectancy)))\n",
    "plt.ylabel('Life Expectancy')\n",
    "plt.show()"
   ]
  },
  {
   "cell_type": "markdown",
   "id": "c7ff8158-9942-4cfc-9fa3-650c052136fb",
   "metadata": {},
   "source": [
    "6. Сравните распределения кол-ва смертей на 1000 человек в Европе и Африке"
   ]
  },
  {
   "cell_type": "code",
   "execution_count": 40,
   "id": "4d583213-486c-4927-b568-fc9e08c7de5c",
   "metadata": {},
   "outputs": [
    {
     "data": {
      "image/png": "[encoded data removed]",
      "text/plain": [
       "<Figure size 1600x900 with 1 Axes>"
      ]
     },
     "metadata": {},
     "output_type": "display_data"
    }
   ],
   "source": [
    "eu_data = merged_data[merged_data['continent'] == 'Europe'][['location', 'mortality']]\n",
    "af_data = merged_data[merged_data['continent'] == 'Africa'][['location', 'mortality']]\n",
    "\n",
    "eu_data['mortality'] = eu_data['mortality'] / 1000\n",
    "af_data['mortality'] = af_data['mortality'] / 1000\n",
    "\n",
    "plt.figure(figsize=(16, 9))\n",
    "plt.title('Distribution of Deaths per Thousand People: Europe vs Africa')\n",
    "\n",
    "plt.hist(eu_data['mortality'], bins=25, alpha=0.5, label='Europe', edgecolor='black')\n",
    "plt.hist(af_data['mortality'], bins=10, alpha=0.5, label='Africa', edgecolor='black')\n",
    "\n",
    "plt.xlabel('Deaths per Thousand People')\n",
    "plt.ylabel('Frequency')\n",
    "plt.grid()\n",
    "plt.legend()\n",
    "plt.show()"
   ]
  },
  {
   "cell_type": "code",
   "execution_count": null,
   "id": "f86c145d-5660-44d2-84c2-79ae804b0901",
   "metadata": {},
   "outputs": [],
   "source": []
  }
 ],
 "metadata": {
  "kernelspec": {
   "display_name": "Python 3 (ipykernel)",
   "language": "python",
   "name": "python3"
  },
  "language_info": {
   "codemirror_mode": {
    "name": "ipython",
    "version": 3
   },
   "file_extension": ".py",
   "mimetype": "text/x-python",
   "name": "python",
   "nbconvert_exporter": "python",
   "pygments_lexer": "ipython3",
   "version": "3.12.4"
  }
 },
 "nbformat": 4,
 "nbformat_minor": 5
}
