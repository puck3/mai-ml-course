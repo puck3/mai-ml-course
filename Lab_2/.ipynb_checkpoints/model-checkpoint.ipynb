{
 "cells": [
  {
   "cell_type": "code",
   "execution_count": 1,
   "id": "initial_id",
   "metadata": {
    "ExecuteTime": {
     "end_time": "2024-10-01T17:41:33.963059Z",
     "start_time": "2024-10-01T17:41:33.797700Z"
    }
   },
   "outputs": [],
   "source": [
    "from curses.ascii import isdigit\n",
    "\n",
    "import numpy as np\n",
    "import pandas as pd\n",
    "import matplotlib.pyplot as plt\n",
    "from sklearn.preprocessing import StandardScaler, OneHotEncoder\n",
    "from sklearn.model_selection import train_test_split\n",
    "from sklearn.linear_model import Ridge\n",
    "from sklearn.metrics import mean_squared_error, mean_absolute_percentage_error\n",
    "import seaborn as sns\n"
   ]
  },
  {
   "cell_type": "code",
   "execution_count": 2,
   "id": "5a985bd327ae063",
   "metadata": {
    "ExecuteTime": {
     "end_time": "2024-10-01T17:41:34.006024Z",
     "start_time": "2024-10-01T17:41:33.976962Z"
    }
   },
   "outputs": [
    {
     "data": {
      "text/html": [
       "<div>\n",
       "<style scoped>\n",
       "    .dataframe tbody tr th:only-of-type {\n",
       "        vertical-align: middle;\n",
       "    }\n",
       "\n",
       "    .dataframe tbody tr th {\n",
       "        vertical-align: top;\n",
       "    }\n",
       "\n",
       "    .dataframe thead th {\n",
       "        text-align: right;\n",
       "    }\n",
       "</style>\n",
       "<table border=\"1\" class=\"dataframe\">\n",
       "  <thead>\n",
       "    <tr style=\"text-align: right;\">\n",
       "      <th></th>\n",
       "      <th>category</th>\n",
       "      <th>clicks</th>\n",
       "      <th>likes</th>\n",
       "      <th>buys</th>\n",
       "      <th>4xx_errors</th>\n",
       "      <th>5xx_errors</th>\n",
       "      <th>complaints_count</th>\n",
       "      <th>average_dwelltime</th>\n",
       "      <th>source_attractiveness</th>\n",
       "      <th>date_of_registration</th>\n",
       "    </tr>\n",
       "  </thead>\n",
       "  <tbody>\n",
       "    <tr>\n",
       "      <th>6622</th>\n",
       "      <td>ecom</td>\n",
       "      <td>6488536.0</td>\n",
       "      <td>NaN</td>\n",
       "      <td>0</td>\n",
       "      <td>82221</td>\n",
       "      <td>0</td>\n",
       "      <td>0</td>\n",
       "      <td>18.450527</td>\n",
       "      <td>0.461750</td>\n",
       "      <td>2020-04-21 16:04:41.817367072</td>\n",
       "    </tr>\n",
       "    <tr>\n",
       "      <th>2047</th>\n",
       "      <td>information_source</td>\n",
       "      <td>874840.0</td>\n",
       "      <td>21100.0</td>\n",
       "      <td>0</td>\n",
       "      <td>12872</td>\n",
       "      <td>0</td>\n",
       "      <td>0</td>\n",
       "      <td>10.721619</td>\n",
       "      <td>-0.022317</td>\n",
       "      <td>2024-07-19 23:50:07.268931816</td>\n",
       "    </tr>\n",
       "    <tr>\n",
       "      <th>1118</th>\n",
       "      <td>information_source</td>\n",
       "      <td>571210.0</td>\n",
       "      <td>94707.0</td>\n",
       "      <td>0</td>\n",
       "      <td>0</td>\n",
       "      <td>7420</td>\n",
       "      <td>0</td>\n",
       "      <td>1.922243</td>\n",
       "      <td>0.046396</td>\n",
       "      <td>2024-07-13 16:35:54.794883135</td>\n",
       "    </tr>\n",
       "    <tr>\n",
       "      <th>4992</th>\n",
       "      <td>news</td>\n",
       "      <td>89534.0</td>\n",
       "      <td>924.0</td>\n",
       "      <td>0</td>\n",
       "      <td>834</td>\n",
       "      <td>0</td>\n",
       "      <td>0</td>\n",
       "      <td>2.149243</td>\n",
       "      <td>-0.093360</td>\n",
       "      <td>2024-09-10 21:29:14.006315095</td>\n",
       "    </tr>\n",
       "    <tr>\n",
       "      <th>9970</th>\n",
       "      <td>information_source</td>\n",
       "      <td>1043953.0</td>\n",
       "      <td>289288.0</td>\n",
       "      <td>0</td>\n",
       "      <td>58375</td>\n",
       "      <td>20260</td>\n",
       "      <td>3948</td>\n",
       "      <td>3.764965</td>\n",
       "      <td>0.027303</td>\n",
       "      <td>2024-05-26 11:07:15.950527838</td>\n",
       "    </tr>\n",
       "  </tbody>\n",
       "</table>\n",
       "</div>"
      ],
      "text/plain": [
       "                category     clicks     likes  buys  4xx_errors  5xx_errors  \\\n",
       "6622                ecom  6488536.0       NaN     0       82221           0   \n",
       "2047  information_source   874840.0   21100.0     0       12872           0   \n",
       "1118  information_source   571210.0   94707.0     0           0        7420   \n",
       "4992                news    89534.0     924.0     0         834           0   \n",
       "9970  information_source  1043953.0  289288.0     0       58375       20260   \n",
       "\n",
       "     complaints_count  average_dwelltime  source_attractiveness  \\\n",
       "6622                0          18.450527               0.461750   \n",
       "2047                0          10.721619              -0.022317   \n",
       "1118                0           1.922243               0.046396   \n",
       "4992                0           2.149243              -0.093360   \n",
       "9970             3948           3.764965               0.027303   \n",
       "\n",
       "               date_of_registration  \n",
       "6622  2020-04-21 16:04:41.817367072  \n",
       "2047  2024-07-19 23:50:07.268931816  \n",
       "1118  2024-07-13 16:35:54.794883135  \n",
       "4992  2024-09-10 21:29:14.006315095  \n",
       "9970  2024-05-26 11:07:15.950527838  "
      ]
     },
     "execution_count": 2,
     "metadata": {},
     "output_type": "execute_result"
    }
   ],
   "source": [
    "domains = pd.read_csv('train.csv', index_col=0)\n",
    "domains.head()"
   ]
  },
  {
   "cell_type": "code",
   "execution_count": 3,
   "id": "4c1c43bcddb0e674",
   "metadata": {
    "ExecuteTime": {
     "end_time": "2024-10-01T17:41:34.066177Z",
     "start_time": "2024-10-01T17:41:34.059984Z"
    }
   },
   "outputs": [
    {
     "name": "stdout",
     "output_type": "stream",
     "text": [
      "<class 'pandas.core.frame.DataFrame'>\n",
      "Index: 8000 entries, 6622 to 9289\n",
      "Data columns (total 10 columns):\n",
      " #   Column                 Non-Null Count  Dtype  \n",
      "---  ------                 --------------  -----  \n",
      " 0   category               8000 non-null   object \n",
      " 1   clicks                 7727 non-null   float64\n",
      " 2   likes                  7624 non-null   float64\n",
      " 3   buys                   8000 non-null   int64  \n",
      " 4   4xx_errors             8000 non-null   int64  \n",
      " 5   5xx_errors             8000 non-null   int64  \n",
      " 6   complaints_count       7527 non-null   object \n",
      " 7   average_dwelltime      8000 non-null   float64\n",
      " 8   source_attractiveness  8000 non-null   float64\n",
      " 9   date_of_registration   8000 non-null   object \n",
      "dtypes: float64(4), int64(3), object(3)\n",
      "memory usage: 687.5+ KB\n"
     ]
    }
   ],
   "source": [
    "domains.info()"
   ]
  },
  {
   "cell_type": "code",
   "execution_count": 4,
   "id": "63f0c6167d5042fd",
   "metadata": {
    "ExecuteTime": {
     "end_time": "2024-10-01T17:41:34.114426Z",
     "start_time": "2024-10-01T17:41:34.110740Z"
    }
   },
   "outputs": [],
   "source": [
    "# domains['category'].value_counts()"
   ]
  },
  {
   "cell_type": "code",
   "execution_count": 5,
   "id": "4f4497ca302fa5f8",
   "metadata": {
    "ExecuteTime": {
     "end_time": "2024-10-01T17:41:34.182677Z",
     "start_time": "2024-10-01T17:41:34.170885Z"
    }
   },
   "outputs": [],
   "source": [
    "# one_hot_category = pd.get_dummies(domains['category'], dtype=int)\n",
    "# domains = domains.join(one_hot_category).drop('category', axis=1)\n",
    "# domains.head()"
   ]
  },
  {
   "cell_type": "code",
   "execution_count": 6,
   "id": "c9940df7a64bfff4",
   "metadata": {
    "ExecuteTime": {
     "end_time": "2024-10-01T17:41:34.272710Z",
     "start_time": "2024-10-01T17:41:34.269150Z"
    }
   },
   "outputs": [
    {
     "name": "stdout",
     "output_type": "stream",
     "text": [
      "-: 411\n",
      "nan: 473\n"
     ]
    }
   ],
   "source": [
    "na_values = np.array([x for x in domains['complaints_count'] if type(x) is not str or not x.isdigit()])\n",
    "unique, counts = np.unique(na_values, return_counts=True)\n",
    "for x, y in zip(unique, counts):\n",
    "    print(f'{x}: {y}')"
   ]
  },
  {
   "cell_type": "code",
   "execution_count": 7,
   "id": "984dbf1c3130f1cb",
   "metadata": {
    "ExecuteTime": {
     "end_time": "2024-10-01T17:41:34.312238Z",
     "start_time": "2024-10-01T17:41:34.301554Z"
    }
   },
   "outputs": [
    {
     "name": "stdout",
     "output_type": "stream",
     "text": [
      "<class 'pandas.core.frame.DataFrame'>\n",
      "Index: 8000 entries, 6622 to 9289\n",
      "Data columns (total 11 columns):\n",
      " #   Column                 Non-Null Count  Dtype  \n",
      "---  ------                 --------------  -----  \n",
      " 0   category               8000 non-null   object \n",
      " 1   clicks                 7727 non-null   float64\n",
      " 2   likes                  7624 non-null   float64\n",
      " 3   buys                   8000 non-null   int64  \n",
      " 4   4xx_errors             8000 non-null   int64  \n",
      " 5   5xx_errors             8000 non-null   int64  \n",
      " 6   complaints_count       7116 non-null   float64\n",
      " 7   average_dwelltime      8000 non-null   float64\n",
      " 8   source_attractiveness  8000 non-null   float64\n",
      " 9   date_of_registration   8000 non-null   object \n",
      " 10  age                    8000 non-null   float64\n",
      "dtypes: float64(6), int64(3), object(2)\n",
      "memory usage: 750.0+ KB\n"
     ]
    }
   ],
   "source": [
    "domains.loc[domains['complaints_count'] == '-', 'complaints_count'] = float('nan')\n",
    "domains['complaints_count'] = domains['complaints_count'].astype(float)\n",
    "\n",
    "domains['age'] = (pd.Timestamp('2024-09-30') - pd.to_datetime(domains['date_of_registration'])) / pd.Timedelta(days=365)\n",
    "\n",
    "domains.info()"
   ]
  },
  {
   "cell_type": "code",
   "execution_count": 8,
   "id": "2f7ef4c1-fb63-4c35-8e98-2db5d348c122",
   "metadata": {},
   "outputs": [],
   "source": [
    "categorial_features = 'category' # категориальные\n",
    "real_features = ['clicks', 'likes', 'buys', '4xx_errors', '5xx_errors', 'complaints_count', 'average_dwelltime', 'age'] # вещественные\n",
    "target_features = 'source_attractiveness' # целевой"
   ]
  },
  {
   "cell_type": "code",
   "execution_count": 9,
   "id": "06186ba9-7f58-424a-97a5-95a51ffda179",
   "metadata": {},
   "outputs": [],
   "source": [
    "def print_shape(data):\n",
    "    shape = data.shape\n",
    "    print(\"Rows:\", shape[0])\n",
    "    print(\"Cols:\", shape[1])"
   ]
  },
  {
   "cell_type": "code",
   "execution_count": 10,
   "id": "42c6086e-5316-4ece-afb0-39635b353885",
   "metadata": {},
   "outputs": [
    {
     "name": "stdout",
     "output_type": "stream",
     "text": [
      "Rows: 6400\n",
      "Cols: 10\n",
      "Rows: 1600\n",
      "Cols: 10\n"
     ]
    }
   ],
   "source": [
    "train, test = train_test_split(\n",
    "    domains.drop(['date_of_registration'], axis=1),\n",
    "    test_size=0.2,\n",
    "    shuffle=True,\n",
    "    stratify=None\n",
    ")\n",
    "print_shape(train)\n",
    "print_shape(test)"
   ]
  },
  {
   "cell_type": "code",
   "execution_count": 11,
   "id": "f8e96f30-3bc8-43bd-a48e-dc56a4956c04",
   "metadata": {},
   "outputs": [
    {
     "data": {
      "image/png": "[encoded data removed]",
      "text/plain": [
       "<Figure size 640x480 with 1 Axes>"
      ]
     },
     "metadata": {},
     "output_type": "display_data"
    }
   ],
   "source": [
    "train['source_attractiveness'].hist(bins=100)\n",
    "plt.show()"
   ]
  },
  {
   "cell_type": "code",
   "execution_count": 12,
   "id": "5e2a9c3baf61e833",
   "metadata": {
    "ExecuteTime": {
     "end_time": "2024-10-01T17:41:34.392582Z",
     "start_time": "2024-10-01T17:41:34.367139Z"
    }
   },
   "outputs": [
    {
     "data": {
      "text/html": [
       "<div>\n",
       "<style scoped>\n",
       "    .dataframe tbody tr th:only-of-type {\n",
       "        vertical-align: middle;\n",
       "    }\n",
       "\n",
       "    .dataframe tbody tr th {\n",
       "        vertical-align: top;\n",
       "    }\n",
       "\n",
       "    .dataframe thead th {\n",
       "        text-align: right;\n",
       "    }\n",
       "</style>\n",
       "<table border=\"1\" class=\"dataframe\">\n",
       "  <thead>\n",
       "    <tr style=\"text-align: right;\">\n",
       "      <th></th>\n",
       "      <th>clicks</th>\n",
       "      <th>likes</th>\n",
       "      <th>buys</th>\n",
       "      <th>4xx_errors</th>\n",
       "      <th>5xx_errors</th>\n",
       "      <th>complaints_count</th>\n",
       "      <th>average_dwelltime</th>\n",
       "      <th>source_attractiveness</th>\n",
       "      <th>age</th>\n",
       "    </tr>\n",
       "  </thead>\n",
       "  <tbody>\n",
       "    <tr>\n",
       "      <th>count</th>\n",
       "      <td>6.184000e+03</td>\n",
       "      <td>6.093000e+03</td>\n",
       "      <td>6.400000e+03</td>\n",
       "      <td>6.400000e+03</td>\n",
       "      <td>6.400000e+03</td>\n",
       "      <td>5683.000000</td>\n",
       "      <td>6400.000000</td>\n",
       "      <td>6400.000000</td>\n",
       "      <td>6400.000000</td>\n",
       "    </tr>\n",
       "    <tr>\n",
       "      <th>mean</th>\n",
       "      <td>2.768525e+06</td>\n",
       "      <td>5.961578e+05</td>\n",
       "      <td>5.949498e+05</td>\n",
       "      <td>8.310233e+04</td>\n",
       "      <td>2.760976e+04</td>\n",
       "      <td>6401.260074</td>\n",
       "      <td>6.900827</td>\n",
       "      <td>0.192391</td>\n",
       "      <td>2.008200</td>\n",
       "    </tr>\n",
       "    <tr>\n",
       "      <th>std</th>\n",
       "      <td>4.756605e+06</td>\n",
       "      <td>1.964388e+06</td>\n",
       "      <td>2.276351e+06</td>\n",
       "      <td>1.573016e+05</td>\n",
       "      <td>7.933305e+04</td>\n",
       "      <td>16140.194149</td>\n",
       "      <td>9.727209</td>\n",
       "      <td>0.227873</td>\n",
       "      <td>2.028697</td>\n",
       "    </tr>\n",
       "    <tr>\n",
       "      <th>min</th>\n",
       "      <td>5.100000e+01</td>\n",
       "      <td>0.000000e+00</td>\n",
       "      <td>0.000000e+00</td>\n",
       "      <td>0.000000e+00</td>\n",
       "      <td>0.000000e+00</td>\n",
       "      <td>0.000000</td>\n",
       "      <td>-1.000000</td>\n",
       "      <td>-0.681718</td>\n",
       "      <td>0.000624</td>\n",
       "    </tr>\n",
       "    <tr>\n",
       "      <th>25%</th>\n",
       "      <td>3.598312e+05</td>\n",
       "      <td>0.000000e+00</td>\n",
       "      <td>0.000000e+00</td>\n",
       "      <td>3.060750e+03</td>\n",
       "      <td>0.000000e+00</td>\n",
       "      <td>146.000000</td>\n",
       "      <td>1.500895</td>\n",
       "      <td>0.038464</td>\n",
       "      <td>0.583245</td>\n",
       "    </tr>\n",
       "    <tr>\n",
       "      <th>50%</th>\n",
       "      <td>1.095806e+06</td>\n",
       "      <td>3.452300e+04</td>\n",
       "      <td>0.000000e+00</td>\n",
       "      <td>2.677700e+04</td>\n",
       "      <td>0.000000e+00</td>\n",
       "      <td>1394.000000</td>\n",
       "      <td>4.045576</td>\n",
       "      <td>0.154321</td>\n",
       "      <td>1.373669</td>\n",
       "    </tr>\n",
       "    <tr>\n",
       "      <th>75%</th>\n",
       "      <td>2.938652e+06</td>\n",
       "      <td>2.886200e+05</td>\n",
       "      <td>0.000000e+00</td>\n",
       "      <td>9.582525e+04</td>\n",
       "      <td>2.010950e+04</td>\n",
       "      <td>5105.500000</td>\n",
       "      <td>8.850362</td>\n",
       "      <td>0.283110</td>\n",
       "      <td>2.741635</td>\n",
       "    </tr>\n",
       "    <tr>\n",
       "      <th>max</th>\n",
       "      <td>6.203206e+07</td>\n",
       "      <td>5.582181e+07</td>\n",
       "      <td>4.277391e+07</td>\n",
       "      <td>2.904996e+06</td>\n",
       "      <td>1.865588e+06</td>\n",
       "      <td>402119.000000</td>\n",
       "      <td>136.254089</td>\n",
       "      <td>1.355736</td>\n",
       "      <td>17.726856</td>\n",
       "    </tr>\n",
       "  </tbody>\n",
       "</table>\n",
       "</div>"
      ],
      "text/plain": [
       "             clicks         likes          buys    4xx_errors    5xx_errors  \\\n",
       "count  6.184000e+03  6.093000e+03  6.400000e+03  6.400000e+03  6.400000e+03   \n",
       "mean   2.768525e+06  5.961578e+05  5.949498e+05  8.310233e+04  2.760976e+04   \n",
       "std    4.756605e+06  1.964388e+06  2.276351e+06  1.573016e+05  7.933305e+04   \n",
       "min    5.100000e+01  0.000000e+00  0.000000e+00  0.000000e+00  0.000000e+00   \n",
       "25%    3.598312e+05  0.000000e+00  0.000000e+00  3.060750e+03  0.000000e+00   \n",
       "50%    1.095806e+06  3.452300e+04  0.000000e+00  2.677700e+04  0.000000e+00   \n",
       "75%    2.938652e+06  2.886200e+05  0.000000e+00  9.582525e+04  2.010950e+04   \n",
       "max    6.203206e+07  5.582181e+07  4.277391e+07  2.904996e+06  1.865588e+06   \n",
       "\n",
       "       complaints_count  average_dwelltime  source_attractiveness          age  \n",
       "count       5683.000000        6400.000000            6400.000000  6400.000000  \n",
       "mean        6401.260074           6.900827               0.192391     2.008200  \n",
       "std        16140.194149           9.727209               0.227873     2.028697  \n",
       "min            0.000000          -1.000000              -0.681718     0.000624  \n",
       "25%          146.000000           1.500895               0.038464     0.583245  \n",
       "50%         1394.000000           4.045576               0.154321     1.373669  \n",
       "75%         5105.500000           8.850362               0.283110     2.741635  \n",
       "max       402119.000000         136.254089               1.355736    17.726856  "
      ]
     },
     "execution_count": 12,
     "metadata": {},
     "output_type": "execute_result"
    }
   ],
   "source": [
    "train.describe()"
   ]
  },
  {
   "cell_type": "code",
   "execution_count": 13,
   "id": "3565ee80-0836-4dca-8e47-345b7381fc5a",
   "metadata": {},
   "outputs": [],
   "source": [
    "import warnings\n",
    "warnings.filterwarnings('ignore')"
   ]
  },
  {
   "cell_type": "code",
   "execution_count": null,
   "id": "4a3c4190-8fee-49e1-8640-70aa5ea0bd5e",
   "metadata": {},
   "outputs": [
    {
     "ename": "KeyboardInterrupt",
     "evalue": "",
     "output_type": "error",
     "traceback": [
      "\u001b[0;31m---------------------------------------------------------------------------\u001b[0m",
      "\u001b[0;31mKeyboardInterrupt\u001b[0m                         Traceback (most recent call last)",
      "Cell \u001b[0;32mIn[118], line 2\u001b[0m\n\u001b[1;32m      1\u001b[0m g \u001b[38;5;241m=\u001b[39m sns\u001b[38;5;241m.\u001b[39mPairGrid(train[[\u001b[38;5;241m*\u001b[39m(real_features \u001b[38;5;241m+\u001b[39m [target_features]), categorial_features]], hue\u001b[38;5;241m=\u001b[39mcategorial_features, diag_sharey\u001b[38;5;241m=\u001b[39m\u001b[38;5;28;01mFalse\u001b[39;00m, height\u001b[38;5;241m=\u001b[39m\u001b[38;5;241m3\u001b[39m)\n\u001b[0;32m----> 2\u001b[0m \u001b[43mg\u001b[49m\u001b[38;5;241;43m.\u001b[39;49m\u001b[43mmap_lower\u001b[49m\u001b[43m(\u001b[49m\u001b[43msns\u001b[49m\u001b[38;5;241;43m.\u001b[39;49m\u001b[43mkdeplot\u001b[49m\u001b[43m,\u001b[49m\u001b[43m \u001b[49m\u001b[43malpha\u001b[49m\u001b[38;5;241;43m=\u001b[39;49m\u001b[38;5;241;43m0.6\u001b[39;49m\u001b[43m)\u001b[49m\n\u001b[1;32m      3\u001b[0m g\u001b[38;5;241m.\u001b[39mmap_upper(plt\u001b[38;5;241m.\u001b[39mscatter, alpha\u001b[38;5;241m=\u001b[39m\u001b[38;5;241m0.3\u001b[39m)\n\u001b[1;32m      4\u001b[0m g\u001b[38;5;241m.\u001b[39mmap_diag(sns\u001b[38;5;241m.\u001b[39mkdeplot, lw\u001b[38;5;241m=\u001b[39m\u001b[38;5;241m3\u001b[39m, alpha\u001b[38;5;241m=\u001b[39m\u001b[38;5;241m0.6\u001b[39m, common_norm\u001b[38;5;241m=\u001b[39m\u001b[38;5;28;01mFalse\u001b[39;00m)\n",
      "File \u001b[0;32m~/.cache/pypoetry/virtualenvs/mai-ml-course-EtUwozYi-py3.12/lib/python3.12/site-packages/seaborn/axisgrid.py:1395\u001b[0m, in \u001b[0;36mPairGrid.map_lower\u001b[0;34m(self, func, **kwargs)\u001b[0m\n\u001b[1;32m   1384\u001b[0m \u001b[38;5;250m\u001b[39m\u001b[38;5;124;03m\"\"\"Plot with a bivariate function on the lower diagonal subplots.\u001b[39;00m\n\u001b[1;32m   1385\u001b[0m \n\u001b[1;32m   1386\u001b[0m \u001b[38;5;124;03mParameters\u001b[39;00m\n\u001b[0;32m   (...)\u001b[0m\n\u001b[1;32m   1392\u001b[0m \n\u001b[1;32m   1393\u001b[0m \u001b[38;5;124;03m\"\"\"\u001b[39;00m\n\u001b[1;32m   1394\u001b[0m indices \u001b[38;5;241m=\u001b[39m \u001b[38;5;28mzip\u001b[39m(\u001b[38;5;241m*\u001b[39mnp\u001b[38;5;241m.\u001b[39mtril_indices_from(\u001b[38;5;28mself\u001b[39m\u001b[38;5;241m.\u001b[39maxes, \u001b[38;5;241m-\u001b[39m\u001b[38;5;241m1\u001b[39m))\n\u001b[0;32m-> 1395\u001b[0m \u001b[38;5;28;43mself\u001b[39;49m\u001b[38;5;241;43m.\u001b[39;49m\u001b[43m_map_bivariate\u001b[49m\u001b[43m(\u001b[49m\u001b[43mfunc\u001b[49m\u001b[43m,\u001b[49m\u001b[43m \u001b[49m\u001b[43mindices\u001b[49m\u001b[43m,\u001b[49m\u001b[43m \u001b[49m\u001b[38;5;241;43m*\u001b[39;49m\u001b[38;5;241;43m*\u001b[39;49m\u001b[43mkwargs\u001b[49m\u001b[43m)\u001b[49m\n\u001b[1;32m   1396\u001b[0m \u001b[38;5;28;01mreturn\u001b[39;00m \u001b[38;5;28mself\u001b[39m\n",
      "File \u001b[0;32m~/.cache/pypoetry/virtualenvs/mai-ml-course-EtUwozYi-py3.12/lib/python3.12/site-packages/seaborn/axisgrid.py:1574\u001b[0m, in \u001b[0;36mPairGrid._map_bivariate\u001b[0;34m(self, func, indices, **kwargs)\u001b[0m\n\u001b[1;32m   1572\u001b[0m     \u001b[38;5;28;01mif\u001b[39;00m ax \u001b[38;5;129;01mis\u001b[39;00m \u001b[38;5;28;01mNone\u001b[39;00m:  \u001b[38;5;66;03m# i.e. we are in corner mode\u001b[39;00m\n\u001b[1;32m   1573\u001b[0m         \u001b[38;5;28;01mcontinue\u001b[39;00m\n\u001b[0;32m-> 1574\u001b[0m     \u001b[38;5;28;43mself\u001b[39;49m\u001b[38;5;241;43m.\u001b[39;49m\u001b[43m_plot_bivariate\u001b[49m\u001b[43m(\u001b[49m\u001b[43mx_var\u001b[49m\u001b[43m,\u001b[49m\u001b[43m \u001b[49m\u001b[43my_var\u001b[49m\u001b[43m,\u001b[49m\u001b[43m \u001b[49m\u001b[43max\u001b[49m\u001b[43m,\u001b[49m\u001b[43m \u001b[49m\u001b[43mfunc\u001b[49m\u001b[43m,\u001b[49m\u001b[43m \u001b[49m\u001b[38;5;241;43m*\u001b[39;49m\u001b[38;5;241;43m*\u001b[39;49m\u001b[43mkws\u001b[49m\u001b[43m)\u001b[49m\n\u001b[1;32m   1575\u001b[0m \u001b[38;5;28mself\u001b[39m\u001b[38;5;241m.\u001b[39m_add_axis_labels()\n\u001b[1;32m   1577\u001b[0m \u001b[38;5;28;01mif\u001b[39;00m \u001b[38;5;124m\"\u001b[39m\u001b[38;5;124mhue\u001b[39m\u001b[38;5;124m\"\u001b[39m \u001b[38;5;129;01min\u001b[39;00m signature(func)\u001b[38;5;241m.\u001b[39mparameters:\n",
      "File \u001b[0;32m~/.cache/pypoetry/virtualenvs/mai-ml-course-EtUwozYi-py3.12/lib/python3.12/site-packages/seaborn/axisgrid.py:1615\u001b[0m, in \u001b[0;36mPairGrid._plot_bivariate\u001b[0;34m(self, x_var, y_var, ax, func, **kwargs)\u001b[0m\n\u001b[1;32m   1611\u001b[0m \u001b[38;5;28;01mif\u001b[39;00m \u001b[38;5;124m\"\u001b[39m\u001b[38;5;124mhue\u001b[39m\u001b[38;5;124m\"\u001b[39m \u001b[38;5;129;01mnot\u001b[39;00m \u001b[38;5;129;01min\u001b[39;00m kwargs:\n\u001b[1;32m   1612\u001b[0m     kwargs\u001b[38;5;241m.\u001b[39mupdate({\n\u001b[1;32m   1613\u001b[0m         \u001b[38;5;124m\"\u001b[39m\u001b[38;5;124mhue\u001b[39m\u001b[38;5;124m\"\u001b[39m: hue, \u001b[38;5;124m\"\u001b[39m\u001b[38;5;124mhue_order\u001b[39m\u001b[38;5;124m\"\u001b[39m: \u001b[38;5;28mself\u001b[39m\u001b[38;5;241m.\u001b[39m_hue_order, \u001b[38;5;124m\"\u001b[39m\u001b[38;5;124mpalette\u001b[39m\u001b[38;5;124m\"\u001b[39m: \u001b[38;5;28mself\u001b[39m\u001b[38;5;241m.\u001b[39m_orig_palette,\n\u001b[1;32m   1614\u001b[0m     })\n\u001b[0;32m-> 1615\u001b[0m \u001b[43mfunc\u001b[49m\u001b[43m(\u001b[49m\u001b[43mx\u001b[49m\u001b[38;5;241;43m=\u001b[39;49m\u001b[43mx\u001b[49m\u001b[43m,\u001b[49m\u001b[43m \u001b[49m\u001b[43my\u001b[49m\u001b[38;5;241;43m=\u001b[39;49m\u001b[43my\u001b[49m\u001b[43m,\u001b[49m\u001b[43m \u001b[49m\u001b[38;5;241;43m*\u001b[39;49m\u001b[38;5;241;43m*\u001b[39;49m\u001b[43mkwargs\u001b[49m\u001b[43m)\u001b[49m\n\u001b[1;32m   1617\u001b[0m \u001b[38;5;28mself\u001b[39m\u001b[38;5;241m.\u001b[39m_update_legend_data(ax)\n",
      "File \u001b[0;32m~/.cache/pypoetry/virtualenvs/mai-ml-course-EtUwozYi-py3.12/lib/python3.12/site-packages/seaborn/distributions.py:1715\u001b[0m, in \u001b[0;36mkdeplot\u001b[0;34m(data, x, y, hue, weights, palette, hue_order, hue_norm, color, fill, multiple, common_norm, common_grid, cumulative, bw_method, bw_adjust, warn_singular, log_scale, levels, thresh, gridsize, cut, clip, legend, cbar, cbar_ax, cbar_kws, ax, **kwargs)\u001b[0m\n\u001b[1;32m   1701\u001b[0m     p\u001b[38;5;241m.\u001b[39mplot_univariate_density(\n\u001b[1;32m   1702\u001b[0m         multiple\u001b[38;5;241m=\u001b[39mmultiple,\n\u001b[1;32m   1703\u001b[0m         common_norm\u001b[38;5;241m=\u001b[39mcommon_norm,\n\u001b[0;32m   (...)\u001b[0m\n\u001b[1;32m   1710\u001b[0m         \u001b[38;5;241m*\u001b[39m\u001b[38;5;241m*\u001b[39mplot_kws,\n\u001b[1;32m   1711\u001b[0m     )\n\u001b[1;32m   1713\u001b[0m \u001b[38;5;28;01melse\u001b[39;00m:\n\u001b[0;32m-> 1715\u001b[0m     \u001b[43mp\u001b[49m\u001b[38;5;241;43m.\u001b[39;49m\u001b[43mplot_bivariate_density\u001b[49m\u001b[43m(\u001b[49m\n\u001b[1;32m   1716\u001b[0m \u001b[43m        \u001b[49m\u001b[43mcommon_norm\u001b[49m\u001b[38;5;241;43m=\u001b[39;49m\u001b[43mcommon_norm\u001b[49m\u001b[43m,\u001b[49m\n\u001b[1;32m   1717\u001b[0m \u001b[43m        \u001b[49m\u001b[43mfill\u001b[49m\u001b[38;5;241;43m=\u001b[39;49m\u001b[43mfill\u001b[49m\u001b[43m,\u001b[49m\n\u001b[1;32m   1718\u001b[0m \u001b[43m        \u001b[49m\u001b[43mlevels\u001b[49m\u001b[38;5;241;43m=\u001b[39;49m\u001b[43mlevels\u001b[49m\u001b[43m,\u001b[49m\n\u001b[1;32m   1719\u001b[0m \u001b[43m        \u001b[49m\u001b[43mthresh\u001b[49m\u001b[38;5;241;43m=\u001b[39;49m\u001b[43mthresh\u001b[49m\u001b[43m,\u001b[49m\n\u001b[1;32m   1720\u001b[0m \u001b[43m        \u001b[49m\u001b[43mlegend\u001b[49m\u001b[38;5;241;43m=\u001b[39;49m\u001b[43mlegend\u001b[49m\u001b[43m,\u001b[49m\n\u001b[1;32m   1721\u001b[0m \u001b[43m        \u001b[49m\u001b[43mcolor\u001b[49m\u001b[38;5;241;43m=\u001b[39;49m\u001b[43mcolor\u001b[49m\u001b[43m,\u001b[49m\n\u001b[1;32m   1722\u001b[0m \u001b[43m        \u001b[49m\u001b[43mwarn_singular\u001b[49m\u001b[38;5;241;43m=\u001b[39;49m\u001b[43mwarn_singular\u001b[49m\u001b[43m,\u001b[49m\n\u001b[1;32m   1723\u001b[0m \u001b[43m        \u001b[49m\u001b[43mcbar\u001b[49m\u001b[38;5;241;43m=\u001b[39;49m\u001b[43mcbar\u001b[49m\u001b[43m,\u001b[49m\n\u001b[1;32m   1724\u001b[0m \u001b[43m        \u001b[49m\u001b[43mcbar_ax\u001b[49m\u001b[38;5;241;43m=\u001b[39;49m\u001b[43mcbar_ax\u001b[49m\u001b[43m,\u001b[49m\n\u001b[1;32m   1725\u001b[0m \u001b[43m        \u001b[49m\u001b[43mcbar_kws\u001b[49m\u001b[38;5;241;43m=\u001b[39;49m\u001b[43mcbar_kws\u001b[49m\u001b[43m,\u001b[49m\n\u001b[1;32m   1726\u001b[0m \u001b[43m        \u001b[49m\u001b[43mestimate_kws\u001b[49m\u001b[38;5;241;43m=\u001b[39;49m\u001b[43mestimate_kws\u001b[49m\u001b[43m,\u001b[49m\n\u001b[1;32m   1727\u001b[0m \u001b[43m        \u001b[49m\u001b[38;5;241;43m*\u001b[39;49m\u001b[38;5;241;43m*\u001b[39;49m\u001b[43mkwargs\u001b[49m\u001b[43m,\u001b[49m\n\u001b[1;32m   1728\u001b[0m \u001b[43m    \u001b[49m\u001b[43m)\u001b[49m\n\u001b[1;32m   1730\u001b[0m \u001b[38;5;28;01mreturn\u001b[39;00m ax\n",
      "File \u001b[0;32m~/.cache/pypoetry/virtualenvs/mai-ml-course-EtUwozYi-py3.12/lib/python3.12/site-packages/seaborn/distributions.py:1073\u001b[0m, in \u001b[0;36m_DistributionPlotter.plot_bivariate_density\u001b[0;34m(self, common_norm, fill, levels, thresh, color, legend, cbar, warn_singular, cbar_ax, cbar_kws, estimate_kws, **contour_kws)\u001b[0m\n\u001b[1;32m   1071\u001b[0m \u001b[38;5;28;01mtry\u001b[39;00m:\n\u001b[1;32m   1072\u001b[0m     \u001b[38;5;28;01mif\u001b[39;00m \u001b[38;5;129;01mnot\u001b[39;00m singular:\n\u001b[0;32m-> 1073\u001b[0m         density, support \u001b[38;5;241m=\u001b[39m \u001b[43mestimator\u001b[49m\u001b[43m(\u001b[49m\u001b[38;5;241;43m*\u001b[39;49m\u001b[43mobservations\u001b[49m\u001b[43m,\u001b[49m\u001b[43m \u001b[49m\u001b[43mweights\u001b[49m\u001b[38;5;241;43m=\u001b[39;49m\u001b[43mweights\u001b[49m\u001b[43m)\u001b[49m\n\u001b[1;32m   1074\u001b[0m \u001b[38;5;28;01mexcept\u001b[39;00m np\u001b[38;5;241m.\u001b[39mlinalg\u001b[38;5;241m.\u001b[39mLinAlgError:\n\u001b[1;32m   1075\u001b[0m     \u001b[38;5;66;03m# Testing for 0 variance doesn't catch all cases where scipy raises,\u001b[39;00m\n\u001b[1;32m   1076\u001b[0m     \u001b[38;5;66;03m# but we can also get a ValueError, so we need this convoluted approach\u001b[39;00m\n\u001b[1;32m   1077\u001b[0m     singular \u001b[38;5;241m=\u001b[39m \u001b[38;5;28;01mTrue\u001b[39;00m\n",
      "File \u001b[0;32m~/.cache/pypoetry/virtualenvs/mai-ml-course-EtUwozYi-py3.12/lib/python3.12/site-packages/seaborn/_statistics.py:195\u001b[0m, in \u001b[0;36mKDE.__call__\u001b[0;34m(self, x1, x2, weights)\u001b[0m\n\u001b[1;32m    193\u001b[0m     \u001b[38;5;28;01mreturn\u001b[39;00m \u001b[38;5;28mself\u001b[39m\u001b[38;5;241m.\u001b[39m_eval_univariate(x1, weights)\n\u001b[1;32m    194\u001b[0m \u001b[38;5;28;01melse\u001b[39;00m:\n\u001b[0;32m--> 195\u001b[0m     \u001b[38;5;28;01mreturn\u001b[39;00m \u001b[38;5;28;43mself\u001b[39;49m\u001b[38;5;241;43m.\u001b[39;49m\u001b[43m_eval_bivariate\u001b[49m\u001b[43m(\u001b[49m\u001b[43mx1\u001b[49m\u001b[43m,\u001b[49m\u001b[43m \u001b[49m\u001b[43mx2\u001b[49m\u001b[43m,\u001b[49m\u001b[43m \u001b[49m\u001b[43mweights\u001b[49m\u001b[43m)\u001b[49m\n",
      "File \u001b[0;32m~/.cache/pypoetry/virtualenvs/mai-ml-course-EtUwozYi-py3.12/lib/python3.12/site-packages/seaborn/_statistics.py:186\u001b[0m, in \u001b[0;36mKDE._eval_bivariate\u001b[0;34m(self, x1, x2, weights)\u001b[0m\n\u001b[1;32m    183\u001b[0m \u001b[38;5;28;01melse\u001b[39;00m:\n\u001b[1;32m    185\u001b[0m     xx1, xx2 \u001b[38;5;241m=\u001b[39m np\u001b[38;5;241m.\u001b[39mmeshgrid(\u001b[38;5;241m*\u001b[39msupport)\n\u001b[0;32m--> 186\u001b[0m     density \u001b[38;5;241m=\u001b[39m \u001b[43mkde\u001b[49m\u001b[43m(\u001b[49m\u001b[43m[\u001b[49m\u001b[43mxx1\u001b[49m\u001b[38;5;241;43m.\u001b[39;49m\u001b[43mravel\u001b[49m\u001b[43m(\u001b[49m\u001b[43m)\u001b[49m\u001b[43m,\u001b[49m\u001b[43m \u001b[49m\u001b[43mxx2\u001b[49m\u001b[38;5;241;43m.\u001b[39;49m\u001b[43mravel\u001b[49m\u001b[43m(\u001b[49m\u001b[43m)\u001b[49m\u001b[43m]\u001b[49m\u001b[43m)\u001b[49m\u001b[38;5;241m.\u001b[39mreshape(xx1\u001b[38;5;241m.\u001b[39mshape)\n\u001b[1;32m    188\u001b[0m \u001b[38;5;28;01mreturn\u001b[39;00m density, support\n",
      "File \u001b[0;32m~/.cache/pypoetry/virtualenvs/mai-ml-course-EtUwozYi-py3.12/lib/python3.12/site-packages/scipy/stats/_kde.py:268\u001b[0m, in \u001b[0;36mgaussian_kde.evaluate\u001b[0;34m(self, points)\u001b[0m\n\u001b[1;32m    265\u001b[0m         \u001b[38;5;28;01mraise\u001b[39;00m \u001b[38;5;167;01mValueError\u001b[39;00m(msg)\n\u001b[1;32m    267\u001b[0m output_dtype, spec \u001b[38;5;241m=\u001b[39m _get_output_dtype(\u001b[38;5;28mself\u001b[39m\u001b[38;5;241m.\u001b[39mcovariance, points)\n\u001b[0;32m--> 268\u001b[0m result \u001b[38;5;241m=\u001b[39m \u001b[43mgaussian_kernel_estimate\u001b[49m\u001b[43m[\u001b[49m\u001b[43mspec\u001b[49m\u001b[43m]\u001b[49m\u001b[43m(\u001b[49m\n\u001b[1;32m    269\u001b[0m \u001b[43m    \u001b[49m\u001b[38;5;28;43mself\u001b[39;49m\u001b[38;5;241;43m.\u001b[39;49m\u001b[43mdataset\u001b[49m\u001b[38;5;241;43m.\u001b[39;49m\u001b[43mT\u001b[49m\u001b[43m,\u001b[49m\u001b[43m \u001b[49m\u001b[38;5;28;43mself\u001b[39;49m\u001b[38;5;241;43m.\u001b[39;49m\u001b[43mweights\u001b[49m\u001b[43m[\u001b[49m\u001b[43m:\u001b[49m\u001b[43m,\u001b[49m\u001b[43m \u001b[49m\u001b[38;5;28;43;01mNone\u001b[39;49;00m\u001b[43m]\u001b[49m\u001b[43m,\u001b[49m\n\u001b[1;32m    270\u001b[0m \u001b[43m    \u001b[49m\u001b[43mpoints\u001b[49m\u001b[38;5;241;43m.\u001b[39;49m\u001b[43mT\u001b[49m\u001b[43m,\u001b[49m\u001b[43m \u001b[49m\u001b[38;5;28;43mself\u001b[39;49m\u001b[38;5;241;43m.\u001b[39;49m\u001b[43mcho_cov\u001b[49m\u001b[43m,\u001b[49m\u001b[43m \u001b[49m\u001b[43moutput_dtype\u001b[49m\u001b[43m)\u001b[49m\n\u001b[1;32m    272\u001b[0m \u001b[38;5;28;01mreturn\u001b[39;00m result[:, \u001b[38;5;241m0\u001b[39m]\n",
      "\u001b[0;31mKeyboardInterrupt\u001b[0m: "
     ]
    }
   ],
   "source": [
    "g = sns.PairGrid(train[[*(real_features + [target_features]), categorial_features]], hue=categorial_features, diag_sharey=False, height=3)\n",
    "g.map_lower(sns.kdeplot, alpha=0.6)\n",
    "g.map_upper(plt.scatter, alpha=0.3)\n",
    "g.map_diag(sns.kdeplot, lw=3, alpha=0.6, common_norm=False)\n",
    "g.add_legend()\n",
    "plt.show()"
   ]
  },
  {
   "cell_type": "code",
   "execution_count": 14,
   "id": "e49a1e14-13eb-41ef-be57-244778d0460d",
   "metadata": {},
   "outputs": [
    {
     "data": {
      "text/plain": [
       "<Axes: >"
      ]
     },
     "execution_count": 14,
     "metadata": {},
     "output_type": "execute_result"
    },
    {
     "data": {
      "image/png": "[encoded data removed]",
      "text/plain": [
       "<Figure size 640x480 with 2 Axes>"
      ]
     },
     "metadata": {},
     "output_type": "display_data"
    }
   ],
   "source": [
    "corr_matrix = train.drop(columns=['category']).corr()\n",
    "sns.heatmap(corr_matrix, annot=True)"
   ]
  },
  {
   "cell_type": "code",
   "execution_count": 15,
   "id": "c40168f9-a873-47bd-bcb9-b520f924f1f6",
   "metadata": {},
   "outputs": [
    {
     "data": {
      "text/html": [
       "<div>\n",
       "<style scoped>\n",
       "    .dataframe tbody tr th:only-of-type {\n",
       "        vertical-align: middle;\n",
       "    }\n",
       "\n",
       "    .dataframe tbody tr th {\n",
       "        vertical-align: top;\n",
       "    }\n",
       "\n",
       "    .dataframe thead th {\n",
       "        text-align: right;\n",
       "    }\n",
       "</style>\n",
       "<table border=\"1\" class=\"dataframe\">\n",
       "  <thead>\n",
       "    <tr style=\"text-align: right;\">\n",
       "      <th></th>\n",
       "      <th>category</th>\n",
       "      <th>clicks</th>\n",
       "      <th>likes</th>\n",
       "      <th>buys</th>\n",
       "      <th>4xx_errors</th>\n",
       "      <th>5xx_errors</th>\n",
       "      <th>complaints_count</th>\n",
       "      <th>average_dwelltime</th>\n",
       "      <th>source_attractiveness</th>\n",
       "      <th>age</th>\n",
       "    </tr>\n",
       "  </thead>\n",
       "  <tbody>\n",
       "    <tr>\n",
       "      <th>8986</th>\n",
       "      <td>information_source</td>\n",
       "      <td>NaN</td>\n",
       "      <td>898936.0</td>\n",
       "      <td>0</td>\n",
       "      <td>66696</td>\n",
       "      <td>33335</td>\n",
       "      <td>8175.0</td>\n",
       "      <td>6.178134</td>\n",
       "      <td>0.272926</td>\n",
       "      <td>2.526698</td>\n",
       "    </tr>\n",
       "    <tr>\n",
       "      <th>8525</th>\n",
       "      <td>information_source</td>\n",
       "      <td>NaN</td>\n",
       "      <td>0.0</td>\n",
       "      <td>0</td>\n",
       "      <td>0</td>\n",
       "      <td>39444</td>\n",
       "      <td>8681.0</td>\n",
       "      <td>3.704097</td>\n",
       "      <td>0.040496</td>\n",
       "      <td>0.713914</td>\n",
       "    </tr>\n",
       "    <tr>\n",
       "      <th>3604</th>\n",
       "      <td>information_source</td>\n",
       "      <td>NaN</td>\n",
       "      <td>7447.0</td>\n",
       "      <td>0</td>\n",
       "      <td>5776</td>\n",
       "      <td>0</td>\n",
       "      <td>0.0</td>\n",
       "      <td>6.415940</td>\n",
       "      <td>0.206016</td>\n",
       "      <td>1.995290</td>\n",
       "    </tr>\n",
       "    <tr>\n",
       "      <th>6010</th>\n",
       "      <td>information_source</td>\n",
       "      <td>NaN</td>\n",
       "      <td>235456.0</td>\n",
       "      <td>0</td>\n",
       "      <td>20819</td>\n",
       "      <td>0</td>\n",
       "      <td>388.0</td>\n",
       "      <td>3.769992</td>\n",
       "      <td>0.216498</td>\n",
       "      <td>0.954276</td>\n",
       "    </tr>\n",
       "    <tr>\n",
       "      <th>2458</th>\n",
       "      <td>information_source</td>\n",
       "      <td>NaN</td>\n",
       "      <td>160373.0</td>\n",
       "      <td>0</td>\n",
       "      <td>45328</td>\n",
       "      <td>0</td>\n",
       "      <td>1471.0</td>\n",
       "      <td>2.171885</td>\n",
       "      <td>0.033183</td>\n",
       "      <td>0.250211</td>\n",
       "    </tr>\n",
       "    <tr>\n",
       "      <th>...</th>\n",
       "      <td>...</td>\n",
       "      <td>...</td>\n",
       "      <td>...</td>\n",
       "      <td>...</td>\n",
       "      <td>...</td>\n",
       "      <td>...</td>\n",
       "      <td>...</td>\n",
       "      <td>...</td>\n",
       "      <td>...</td>\n",
       "      <td>...</td>\n",
       "    </tr>\n",
       "    <tr>\n",
       "      <th>9792</th>\n",
       "      <td>information_source</td>\n",
       "      <td>NaN</td>\n",
       "      <td>67637.0</td>\n",
       "      <td>0</td>\n",
       "      <td>0</td>\n",
       "      <td>6688</td>\n",
       "      <td>3640.0</td>\n",
       "      <td>16.111587</td>\n",
       "      <td>0.256538</td>\n",
       "      <td>2.643035</td>\n",
       "    </tr>\n",
       "    <tr>\n",
       "      <th>9368</th>\n",
       "      <td>ecom</td>\n",
       "      <td>NaN</td>\n",
       "      <td>9557175.0</td>\n",
       "      <td>2248762</td>\n",
       "      <td>411839</td>\n",
       "      <td>194517</td>\n",
       "      <td>42813.0</td>\n",
       "      <td>2.813918</td>\n",
       "      <td>0.219220</td>\n",
       "      <td>0.831636</td>\n",
       "    </tr>\n",
       "    <tr>\n",
       "      <th>688</th>\n",
       "      <td>information_source</td>\n",
       "      <td>NaN</td>\n",
       "      <td>146680.0</td>\n",
       "      <td>0</td>\n",
       "      <td>13365</td>\n",
       "      <td>14359</td>\n",
       "      <td>4160.0</td>\n",
       "      <td>2.358435</td>\n",
       "      <td>-0.018740</td>\n",
       "      <td>0.348654</td>\n",
       "    </tr>\n",
       "    <tr>\n",
       "      <th>4247</th>\n",
       "      <td>ecom</td>\n",
       "      <td>NaN</td>\n",
       "      <td>0.0</td>\n",
       "      <td>5505</td>\n",
       "      <td>393</td>\n",
       "      <td>0</td>\n",
       "      <td>NaN</td>\n",
       "      <td>6.984174</td>\n",
       "      <td>0.019118</td>\n",
       "      <td>0.034421</td>\n",
       "    </tr>\n",
       "    <tr>\n",
       "      <th>891</th>\n",
       "      <td>information_source</td>\n",
       "      <td>NaN</td>\n",
       "      <td>253368.0</td>\n",
       "      <td>0</td>\n",
       "      <td>69647</td>\n",
       "      <td>0</td>\n",
       "      <td>1673.0</td>\n",
       "      <td>8.357695</td>\n",
       "      <td>0.412730</td>\n",
       "      <td>7.511878</td>\n",
       "    </tr>\n",
       "  </tbody>\n",
       "</table>\n",
       "<p>216 rows × 10 columns</p>\n",
       "</div>"
      ],
      "text/plain": [
       "                category  clicks      likes     buys  4xx_errors  5xx_errors  \\\n",
       "8986  information_source     NaN   898936.0        0       66696       33335   \n",
       "8525  information_source     NaN        0.0        0           0       39444   \n",
       "3604  information_source     NaN     7447.0        0        5776           0   \n",
       "6010  information_source     NaN   235456.0        0       20819           0   \n",
       "2458  information_source     NaN   160373.0        0       45328           0   \n",
       "...                  ...     ...        ...      ...         ...         ...   \n",
       "9792  information_source     NaN    67637.0        0           0        6688   \n",
       "9368                ecom     NaN  9557175.0  2248762      411839      194517   \n",
       "688   information_source     NaN   146680.0        0       13365       14359   \n",
       "4247                ecom     NaN        0.0     5505         393           0   \n",
       "891   information_source     NaN   253368.0        0       69647           0   \n",
       "\n",
       "      complaints_count  average_dwelltime  source_attractiveness       age  \n",
       "8986            8175.0           6.178134               0.272926  2.526698  \n",
       "8525            8681.0           3.704097               0.040496  0.713914  \n",
       "3604               0.0           6.415940               0.206016  1.995290  \n",
       "6010             388.0           3.769992               0.216498  0.954276  \n",
       "2458            1471.0           2.171885               0.033183  0.250211  \n",
       "...                ...                ...                    ...       ...  \n",
       "9792            3640.0          16.111587               0.256538  2.643035  \n",
       "9368           42813.0           2.813918               0.219220  0.831636  \n",
       "688             4160.0           2.358435              -0.018740  0.348654  \n",
       "4247               NaN           6.984174               0.019118  0.034421  \n",
       "891             1673.0           8.357695               0.412730  7.511878  \n",
       "\n",
       "[216 rows x 10 columns]"
      ]
     },
     "execution_count": 15,
     "metadata": {},
     "output_type": "execute_result"
    }
   ],
   "source": [
    "train[train['clicks'].isna()]"
   ]
  },
  {
   "cell_type": "code",
   "execution_count": 16,
   "id": "ae95f289-12fd-4a01-98bd-a35cf2c4239a",
   "metadata": {},
   "outputs": [],
   "source": [
    "clicks_median = train['clicks'].median()\n",
    "likes_median = train['likes'].median()\n",
    "complaints_count_median = train['complaints_count'].median()\n",
    "\n",
    "train['clicks'] = train['clicks'].fillna(clicks_median)\n",
    "train['likes'] = train['likes'].fillna(likes_median)\n",
    "train['complaints_count'] = train['complaints_count'].fillna(complaints_count_median)\n",
    "\n",
    "test['clicks'] = test['clicks'].fillna(clicks_median)\n",
    "test['likes'] = test['likes'].fillna(likes_median)\n",
    "test['complaints_count'] = test['complaints_count'].fillna(complaints_count_median)"
   ]
  },
  {
   "cell_type": "code",
   "execution_count": 17,
   "id": "59733bae-2682-406d-b921-3a6fe6cb839a",
   "metadata": {},
   "outputs": [
    {
     "data": {
      "text/plain": [
       "array([[1., 0., 0., 0.],\n",
       "       [0., 1., 0., 0.],\n",
       "       [0., 0., 0., 0.],\n",
       "       ...,\n",
       "       [0., 0., 0., 1.],\n",
       "       [0., 1., 0., 0.],\n",
       "       [1., 0., 0., 0.]])"
      ]
     },
     "execution_count": 17,
     "metadata": {},
     "output_type": "execute_result"
    }
   ],
   "source": [
    "encoder = OneHotEncoder(drop='first', sparse_output=False)\n",
    "train_cat = encoder.fit_transform(train[[categorial_features]])\n",
    "test_cat = encoder.transform(test[[categorial_features]])\n",
    "train_cat"
   ]
  },
  {
   "cell_type": "code",
   "execution_count": 18,
   "id": "508aa508-2db0-45e9-a6fe-933969f48e73",
   "metadata": {},
   "outputs": [
    {
     "data": {
      "text/plain": [
       "[array(['ecom', 'information_source', 'news', 'porn', 'social'],\n",
       "       dtype=object)]"
      ]
     },
     "execution_count": 18,
     "metadata": {},
     "output_type": "execute_result"
    }
   ],
   "source": [
    "encoder.categories_"
   ]
  },
  {
   "cell_type": "code",
   "execution_count": 19,
   "id": "2867041d-e727-4fe7-a993-e866e9a123fb",
   "metadata": {},
   "outputs": [],
   "source": [
    "scaler = StandardScaler()\n",
    "train_scaled = scaler.fit_transform(train[real_features])\n",
    "test_scaled = scaler.transform(test[real_features])"
   ]
  },
  {
   "cell_type": "code",
   "execution_count": 20,
   "id": "73274562-0458-4108-affa-17d741ba0dbc",
   "metadata": {},
   "outputs": [
    {
     "name": "stdout",
     "output_type": "stream",
     "text": [
      "Rows: 6400\n",
      "Cols: 12\n"
     ]
    }
   ],
   "source": [
    "X_train = np.hstack([train_scaled, train_cat])\n",
    "X_test = np.hstack([test_scaled, test_cat])\n",
    "Y_train = train['source_attractiveness']\n",
    "Y_test = test['source_attractiveness']\n",
    "print_shape(X_train)"
   ]
  },
  {
   "cell_type": "code",
   "execution_count": 21,
   "id": "2038a714-4180-49cd-8332-67dc3faaf2e3",
   "metadata": {},
   "outputs": [
    {
     "data": {
      "text/plain": [
       "array([[-0.35034326, -0.12196424, -0.26138165, ...,  0.        ,\n",
       "         0.        ,  0.        ],\n",
       "       [-0.48059333, -0.27844415, -0.26138165, ...,  1.        ,\n",
       "         0.        ,  0.        ],\n",
       "       [-0.56243506, -0.29620343, -0.26072089, ...,  0.        ,\n",
       "         0.        ,  0.        ],\n",
       "       ...,\n",
       "       [-0.22116917, -0.27844415, -0.26138165, ...,  0.        ,\n",
       "         0.        ,  1.        ],\n",
       "       [-0.39598385, -0.28653667, -0.26138165, ...,  1.        ,\n",
       "         0.        ,  0.        ],\n",
       "       [-0.20697862, -0.27844415, -0.26138165, ...,  0.        ,\n",
       "         0.        ,  0.        ]])"
      ]
     },
     "execution_count": 21,
     "metadata": {},
     "output_type": "execute_result"
    }
   ],
   "source": [
    "X_train"
   ]
  },
  {
   "cell_type": "code",
   "execution_count": 30,
   "id": "23860f47-89a1-4a95-a95b-7e4560ed5fc6",
   "metadata": {},
   "outputs": [],
   "source": [
    "model = Ridge(alpha=1)\n",
    "model = model.fit(X_train, Y_train)\n"
   ]
  },
  {
   "cell_type": "code",
   "execution_count": 31,
   "id": "5185e3da-63a0-4dbb-ab7c-0f16b998c8da",
   "metadata": {},
   "outputs": [],
   "source": [
    "Y_pred = model.predict(X_test)"
   ]
  },
  {
   "cell_type": "code",
   "execution_count": 32,
   "id": "62ed0e25-8472-4388-85d6-504fa9d4a8ce",
   "metadata": {},
   "outputs": [
    {
     "data": {
      "text/plain": [
       "np.float64(0.01695794914217158)"
      ]
     },
     "execution_count": 32,
     "metadata": {},
     "output_type": "execute_result"
    }
   ],
   "source": [
    "mean_squared_error(Y_test, Y_pred)"
   ]
  },
  {
   "cell_type": "code",
   "execution_count": 33,
   "id": "7645261d-a5b2-4427-a24c-48958d636b8f",
   "metadata": {},
   "outputs": [
    {
     "data": {
      "text/plain": [
       "np.float64(1.7906170784360576)"
      ]
     },
     "execution_count": 33,
     "metadata": {},
     "output_type": "execute_result"
    }
   ],
   "source": [
    "mean_absolute_percentage_error(Y_test, Y_pred)"
   ]
  },
  {
   "cell_type": "code",
   "execution_count": null,
   "id": "c3e72bf1-3c45-46af-a519-bde7f3b7b3b4",
   "metadata": {},
   "outputs": [],
   "source": [
    "df = pd.read_csv('test.csv', index_col=0)\n",
    "\n",
    "df.loc[df['complaints_count'] == '-', 'complaints_count'] = float('nan')\n",
    "df['complaints_count'] = df['complaints_count'].astype(float)\n",
    "\n",
    "df['age'] = (pd.Timestamp('2024-09-30') - pd.to_datetime(df['date_of_registration'])) / pd.Timedelta(days=365)\n",
    "\n",
    "df['clicks'] = df['clicks'].fillna(clicks_median)\n",
    "df['likes'] = df['likes'].fillna(likes_median)\n",
    "df['complaints_count'] = df['complaints_count'].fillna(complaints_count_median)\n",
    "\n",
    "cat = encoder.transform(df[[categorial_features]])\n",
    "scaled = scaler.transform(df[real_features])\n",
    "X = np.hstack([scaled, cat])\n"
   ]
  }
 ],
 "metadata": {
  "kernelspec": {
   "display_name": "Python 3 (ipykernel)",
   "language": "python",
   "name": "python3"
  },
  "language_info": {
   "codemirror_mode": {
    "name": "ipython",
    "version": 3
   },
   "file_extension": ".py",
   "mimetype": "text/x-python",
   "name": "python",
   "nbconvert_exporter": "python",
   "pygments_lexer": "ipython3",
   "version": "3.12.7"
  }
 },
 "nbformat": 4,
 "nbformat_minor": 5
}
