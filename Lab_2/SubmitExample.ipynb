{
 "cells": [
  {
   "cell_type": "markdown",
   "id": "397684f7-1caa-46c7-aa83-f6ad5e5bcf7d",
   "metadata": {},
   "source": [
    "## Sumbit example"
   ]
  },
  {
   "cell_type": "code",
   "execution_count": 1,
   "id": "d4c64769-808c-4dac-966d-576b40303b36",
   "metadata": {},
   "outputs": [],
   "source": [
    "import pandas as pd\n",
    "import numpy as np"
   ]
  },
  {
   "cell_type": "code",
   "execution_count": 4,
   "id": "60fac8c7-2e13-4626-9dc7-083fd55071bc",
   "metadata": {},
   "outputs": [],
   "source": [
    "# Add your code here"
   ]
  },
  {
   "cell_type": "markdown",
   "id": "79d4eca8-bd02-4235-8c50-7bab6f8cfdfc",
   "metadata": {},
   "source": [
    "## Final model submit function"
   ]
  },
  {
   "cell_type": "markdown",
   "id": "bbdbd4d5-2072-41da-8d4e-8d1250d02b4c",
   "metadata": {},
   "source": [
    "Принимает на вход путь к набору данных в формате `.csv`"
   ]
  },
  {
   "cell_type": "markdown",
   "id": "0cfda59a-5ee1-4ac5-87b5-5d0ff5c4a169",
   "metadata": {},
   "source": [
    "На выходе получается файл с предиктами в формате `.csv`\n",
    "\n",
    "Пример содержания:\n",
    "```\n",
    "0.432\n",
    "0.412\n",
    "0.312\n",
    "```"
   ]
  },
  {
   "cell_type": "markdown",
   "id": "33bd6581-bf67-4efc-b3cf-cdcd20143518",
   "metadata": {},
   "source": [
    "Реализация модели - между ними"
   ]
  },
  {
   "cell_type": "code",
   "execution_count": null,
   "id": "39a5eb27-135a-4c7f-b18b-4ef7c937e62c",
   "metadata": {},
   "outputs": [],
   "source": [
    "def predict(data_path):\n",
    "    data = pd.read_csv(data_path)\n",
    "    # Add your implementation\n",
    "    predicts = #...\n",
    "    with open('output.csv', 'w') as file:\n",
    "        for predict in predicts:\n",
    "            file.write(str(predict) + '\\n')"
   ]
  }
 ],
 "metadata": {
  "kernelspec": {
   "display_name": "MainKernel",
   "language": "python",
   "name": "mainkernel"
  },
  "language_info": {
   "codemirror_mode": {
    "name": "ipython",
    "version": 3
   },
   "file_extension": ".py",
   "mimetype": "text/x-python",
   "name": "python",
   "nbconvert_exporter": "python",
   "pygments_lexer": "ipython3",
   "version": "3.12.5"
  }
 },
 "nbformat": 4,
 "nbformat_minor": 5
}
